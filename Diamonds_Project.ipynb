{
 "cells": [
  {
   "cell_type": "markdown",
   "id": "0d673201",
   "metadata": {},
   "source": [
    "# Project T5 Bootcamp\n",
    "## Diamonds Dataset\n",
    "### The resource https://www.kaggle.com/shivam2503/diamonds"
   ]
  },
  {
   "cell_type": "markdown",
   "id": "fe2087f1",
   "metadata": {},
   "source": [
    "### Problems:\n",
    "Predict the price of diamonds"
   ]
  },
  {
   "cell_type": "markdown",
   "id": "eb919fcb",
   "metadata": {},
   "source": [
    "### Solutions:"
   ]
  },
  {
   "cell_type": "markdown",
   "id": "efb8055d",
   "metadata": {},
   "source": [
    "### Dataset:\n",
    "I will be using \"diamonds.csv\" data set that contains 10 columns and 53,940 rows.<br>\n",
    "#### Dataset Story:\n",
    "The dataset has a story about diamonds, for each data has a story that is its price, its weight, its quality, its color, how it is clear, its dimensions, its total depth percentage, and width of the top of the diamond<br>\n",
    "<br>\n",
    "#### Columns Stories:\n",
    "- carat: weight of the diamond <br>\n",
    "- price: in US dollars <br>\n",
    "- cut: quality of the cut [Fair, Good, Very Good, Premium, Ideal]<br>\n",
    "- color: diamond color, from [D (best), E, F, G, H, I, J (worst)], [D, E, F] are Colorless and [G, H, I, J] are Near Colorless<br>\n",
    "- clarity: clarity a measurement of how clear the diamond is [IF (best), VVS1, VVS2, VS1, VS2, SI1, SI2, I1 (worst)] (by 10x microscope along with the trained naked eye)<br>\n",
    "- depth: total depth percentage is z / mean(x, y) = 2 * z / (x + y) <br>\n",
    "- table:  width of the top of the diamond relative to widest point <br>\n",
    "- x: length in mm <br>\n",
    "- y: width in mm <br>\n",
    "- z: depth in mm <br>"
   ]
  },
  {
   "cell_type": "markdown",
   "id": "e9428b26",
   "metadata": {},
   "source": [
    "### Tools:\n",
    "- Jupyter notebook<br>\n",
    "- Programming language Python<br>\n",
    "- Libraries: Numpy, Pandas, Matplotlip, train_test_split, LinearRegression, RandomForestRegressor, mean_squared_error\n",
    "- https://en.wikipedia.org/wiki/Diamond_color ( to categorize colors )"
   ]
  },
  {
   "cell_type": "markdown",
   "id": "5e457064",
   "metadata": {},
   "source": [
    "## EDA"
   ]
  },
  {
   "cell_type": "markdown",
   "id": "7d92d0da",
   "metadata": {},
   "source": [
    "##### import libraries "
   ]
  },
  {
   "cell_type": "code",
   "execution_count": 2,
   "id": "6895bcba",
   "metadata": {},
   "outputs": [],
   "source": [
    "import pandas as pd\n",
    "import numpy as np\n",
    "import matplotlib.pyplot as plt\n",
    "import seaborn as sns\n",
    "from sklearn.model_selection import train_test_split\n",
    "from sklearn.linear_model import LinearRegression\n",
    "from sklearn.ensemble import RandomForestRegressor\n",
    "from sklearn.metrics import mean_squared_error as mse\n",
    "\n",
    "%matplotlib inline "
   ]
  },
  {
   "cell_type": "markdown",
   "id": "6f16ce02",
   "metadata": {},
   "source": [
    "##### read the file"
   ]
  },
  {
   "cell_type": "code",
   "execution_count": 3,
   "id": "1823026e",
   "metadata": {},
   "outputs": [],
   "source": [
    "diamonds = pd.read_csv('diamonds.csv',index_col=0)"
   ]
  },
  {
   "cell_type": "markdown",
   "id": "2e497089",
   "metadata": {},
   "source": [
    "##### how many columns and rows in dataset?"
   ]
  },
  {
   "cell_type": "code",
   "execution_count": 4,
   "id": "4fa2da10",
   "metadata": {
    "scrolled": true
   },
   "outputs": [
    {
     "name": "stdout",
     "output_type": "stream",
     "text": [
      "There are 53940 rows and 10 columns \n"
     ]
    }
   ],
   "source": [
    "print(f'There are {diamonds.shape[0]} rows and {diamonds.shape[1]} columns ')"
   ]
  },
  {
   "cell_type": "markdown",
   "id": "8e29a0a0",
   "metadata": {},
   "source": [
    "##### display sample of data"
   ]
  },
  {
   "cell_type": "code",
   "execution_count": 5,
   "id": "9636018f",
   "metadata": {},
   "outputs": [
    {
     "data": {
      "text/html": [
       "<div>\n",
       "<style scoped>\n",
       "    .dataframe tbody tr th:only-of-type {\n",
       "        vertical-align: middle;\n",
       "    }\n",
       "\n",
       "    .dataframe tbody tr th {\n",
       "        vertical-align: top;\n",
       "    }\n",
       "\n",
       "    .dataframe thead th {\n",
       "        text-align: right;\n",
       "    }\n",
       "</style>\n",
       "<table border=\"1\" class=\"dataframe\">\n",
       "  <thead>\n",
       "    <tr style=\"text-align: right;\">\n",
       "      <th></th>\n",
       "      <th>carat</th>\n",
       "      <th>cut</th>\n",
       "      <th>color</th>\n",
       "      <th>clarity</th>\n",
       "      <th>depth</th>\n",
       "      <th>table</th>\n",
       "      <th>price</th>\n",
       "      <th>x</th>\n",
       "      <th>y</th>\n",
       "      <th>z</th>\n",
       "    </tr>\n",
       "  </thead>\n",
       "  <tbody>\n",
       "    <tr>\n",
       "      <th>1</th>\n",
       "      <td>0.23</td>\n",
       "      <td>Ideal</td>\n",
       "      <td>E</td>\n",
       "      <td>SI2</td>\n",
       "      <td>61.5</td>\n",
       "      <td>55.0</td>\n",
       "      <td>326</td>\n",
       "      <td>3.95</td>\n",
       "      <td>3.98</td>\n",
       "      <td>2.43</td>\n",
       "    </tr>\n",
       "    <tr>\n",
       "      <th>2</th>\n",
       "      <td>0.21</td>\n",
       "      <td>Premium</td>\n",
       "      <td>E</td>\n",
       "      <td>SI1</td>\n",
       "      <td>59.8</td>\n",
       "      <td>61.0</td>\n",
       "      <td>326</td>\n",
       "      <td>3.89</td>\n",
       "      <td>3.84</td>\n",
       "      <td>2.31</td>\n",
       "    </tr>\n",
       "    <tr>\n",
       "      <th>3</th>\n",
       "      <td>0.23</td>\n",
       "      <td>Good</td>\n",
       "      <td>E</td>\n",
       "      <td>VS1</td>\n",
       "      <td>56.9</td>\n",
       "      <td>65.0</td>\n",
       "      <td>327</td>\n",
       "      <td>4.05</td>\n",
       "      <td>4.07</td>\n",
       "      <td>2.31</td>\n",
       "    </tr>\n",
       "    <tr>\n",
       "      <th>4</th>\n",
       "      <td>0.29</td>\n",
       "      <td>Premium</td>\n",
       "      <td>I</td>\n",
       "      <td>VS2</td>\n",
       "      <td>62.4</td>\n",
       "      <td>58.0</td>\n",
       "      <td>334</td>\n",
       "      <td>4.20</td>\n",
       "      <td>4.23</td>\n",
       "      <td>2.63</td>\n",
       "    </tr>\n",
       "    <tr>\n",
       "      <th>5</th>\n",
       "      <td>0.31</td>\n",
       "      <td>Good</td>\n",
       "      <td>J</td>\n",
       "      <td>SI2</td>\n",
       "      <td>63.3</td>\n",
       "      <td>58.0</td>\n",
       "      <td>335</td>\n",
       "      <td>4.34</td>\n",
       "      <td>4.35</td>\n",
       "      <td>2.75</td>\n",
       "    </tr>\n",
       "  </tbody>\n",
       "</table>\n",
       "</div>"
      ],
      "text/plain": [
       "   carat      cut color clarity  depth  table  price     x     y     z\n",
       "1   0.23    Ideal     E     SI2   61.5   55.0    326  3.95  3.98  2.43\n",
       "2   0.21  Premium     E     SI1   59.8   61.0    326  3.89  3.84  2.31\n",
       "3   0.23     Good     E     VS1   56.9   65.0    327  4.05  4.07  2.31\n",
       "4   0.29  Premium     I     VS2   62.4   58.0    334  4.20  4.23  2.63\n",
       "5   0.31     Good     J     SI2   63.3   58.0    335  4.34  4.35  2.75"
      ]
     },
     "execution_count": 5,
     "metadata": {},
     "output_type": "execute_result"
    }
   ],
   "source": [
    "diamonds.head()"
   ]
  },
  {
   "cell_type": "markdown",
   "id": "d9c9e6f4",
   "metadata": {},
   "source": [
    "Features not clear"
   ]
  },
  {
   "cell_type": "markdown",
   "id": "1b6f6d22",
   "metadata": {},
   "source": [
    "##### rename of features to be readable"
   ]
  },
  {
   "cell_type": "code",
   "execution_count": 6,
   "id": "10a64eb4",
   "metadata": {},
   "outputs": [],
   "source": [
    "diamonds = diamonds.rename(columns={\n",
    "    'carat': 'weight_carat',\n",
    "    'cut' : 'quality',\n",
    "    'depth' : 'total_depth%',\n",
    "    'price' : 'price$',\n",
    "    'x' : 'length(mm)',\n",
    "    'y' : 'width(mm)',\n",
    "    'z' : 'depth(mm)'\n",
    "})"
   ]
  },
  {
   "cell_type": "markdown",
   "id": "c4ad3cdb",
   "metadata": {},
   "source": [
    "##### check if there any NULL value"
   ]
  },
  {
   "cell_type": "code",
   "execution_count": 7,
   "id": "7f2b4fbf",
   "metadata": {},
   "outputs": [
    {
     "data": {
      "text/plain": [
       "weight_carat    0\n",
       "quality         0\n",
       "color           0\n",
       "clarity         0\n",
       "total_depth%    0\n",
       "table           0\n",
       "price$          0\n",
       "length(mm)      0\n",
       "width(mm)       0\n",
       "depth(mm)       0\n",
       "dtype: int64"
      ]
     },
     "execution_count": 7,
     "metadata": {},
     "output_type": "execute_result"
    }
   ],
   "source": [
    "diamonds.isnull().sum()"
   ]
  },
  {
   "cell_type": "markdown",
   "id": "cc953d08",
   "metadata": {},
   "source": [
    "There are not any NULL values"
   ]
  },
  {
   "cell_type": "markdown",
   "id": "483f00a5",
   "metadata": {},
   "source": [
    "##### analysis data"
   ]
  },
  {
   "cell_type": "code",
   "execution_count": 8,
   "id": "299354da",
   "metadata": {},
   "outputs": [
    {
     "data": {
      "text/html": [
       "<div>\n",
       "<style scoped>\n",
       "    .dataframe tbody tr th:only-of-type {\n",
       "        vertical-align: middle;\n",
       "    }\n",
       "\n",
       "    .dataframe tbody tr th {\n",
       "        vertical-align: top;\n",
       "    }\n",
       "\n",
       "    .dataframe thead th {\n",
       "        text-align: right;\n",
       "    }\n",
       "</style>\n",
       "<table border=\"1\" class=\"dataframe\">\n",
       "  <thead>\n",
       "    <tr style=\"text-align: right;\">\n",
       "      <th></th>\n",
       "      <th>weight_carat</th>\n",
       "      <th>total_depth%</th>\n",
       "      <th>table</th>\n",
       "      <th>price$</th>\n",
       "      <th>length(mm)</th>\n",
       "      <th>width(mm)</th>\n",
       "      <th>depth(mm)</th>\n",
       "    </tr>\n",
       "  </thead>\n",
       "  <tbody>\n",
       "    <tr>\n",
       "      <th>count</th>\n",
       "      <td>53940.000000</td>\n",
       "      <td>53940.000000</td>\n",
       "      <td>53940.000000</td>\n",
       "      <td>53940.000000</td>\n",
       "      <td>53940.000000</td>\n",
       "      <td>53940.000000</td>\n",
       "      <td>53940.000000</td>\n",
       "    </tr>\n",
       "    <tr>\n",
       "      <th>mean</th>\n",
       "      <td>0.797940</td>\n",
       "      <td>61.749405</td>\n",
       "      <td>57.457184</td>\n",
       "      <td>3932.799722</td>\n",
       "      <td>5.731157</td>\n",
       "      <td>5.734526</td>\n",
       "      <td>3.538734</td>\n",
       "    </tr>\n",
       "    <tr>\n",
       "      <th>std</th>\n",
       "      <td>0.474011</td>\n",
       "      <td>1.432621</td>\n",
       "      <td>2.234491</td>\n",
       "      <td>3989.439738</td>\n",
       "      <td>1.121761</td>\n",
       "      <td>1.142135</td>\n",
       "      <td>0.705699</td>\n",
       "    </tr>\n",
       "    <tr>\n",
       "      <th>min</th>\n",
       "      <td>0.200000</td>\n",
       "      <td>43.000000</td>\n",
       "      <td>43.000000</td>\n",
       "      <td>326.000000</td>\n",
       "      <td>0.000000</td>\n",
       "      <td>0.000000</td>\n",
       "      <td>0.000000</td>\n",
       "    </tr>\n",
       "    <tr>\n",
       "      <th>25%</th>\n",
       "      <td>0.400000</td>\n",
       "      <td>61.000000</td>\n",
       "      <td>56.000000</td>\n",
       "      <td>950.000000</td>\n",
       "      <td>4.710000</td>\n",
       "      <td>4.720000</td>\n",
       "      <td>2.910000</td>\n",
       "    </tr>\n",
       "    <tr>\n",
       "      <th>50%</th>\n",
       "      <td>0.700000</td>\n",
       "      <td>61.800000</td>\n",
       "      <td>57.000000</td>\n",
       "      <td>2401.000000</td>\n",
       "      <td>5.700000</td>\n",
       "      <td>5.710000</td>\n",
       "      <td>3.530000</td>\n",
       "    </tr>\n",
       "    <tr>\n",
       "      <th>75%</th>\n",
       "      <td>1.040000</td>\n",
       "      <td>62.500000</td>\n",
       "      <td>59.000000</td>\n",
       "      <td>5324.250000</td>\n",
       "      <td>6.540000</td>\n",
       "      <td>6.540000</td>\n",
       "      <td>4.040000</td>\n",
       "    </tr>\n",
       "    <tr>\n",
       "      <th>max</th>\n",
       "      <td>5.010000</td>\n",
       "      <td>79.000000</td>\n",
       "      <td>95.000000</td>\n",
       "      <td>18823.000000</td>\n",
       "      <td>10.740000</td>\n",
       "      <td>58.900000</td>\n",
       "      <td>31.800000</td>\n",
       "    </tr>\n",
       "  </tbody>\n",
       "</table>\n",
       "</div>"
      ],
      "text/plain": [
       "       weight_carat  total_depth%         table        price$    length(mm)  \\\n",
       "count  53940.000000  53940.000000  53940.000000  53940.000000  53940.000000   \n",
       "mean       0.797940     61.749405     57.457184   3932.799722      5.731157   \n",
       "std        0.474011      1.432621      2.234491   3989.439738      1.121761   \n",
       "min        0.200000     43.000000     43.000000    326.000000      0.000000   \n",
       "25%        0.400000     61.000000     56.000000    950.000000      4.710000   \n",
       "50%        0.700000     61.800000     57.000000   2401.000000      5.700000   \n",
       "75%        1.040000     62.500000     59.000000   5324.250000      6.540000   \n",
       "max        5.010000     79.000000     95.000000  18823.000000     10.740000   \n",
       "\n",
       "          width(mm)     depth(mm)  \n",
       "count  53940.000000  53940.000000  \n",
       "mean       5.734526      3.538734  \n",
       "std        1.142135      0.705699  \n",
       "min        0.000000      0.000000  \n",
       "25%        4.720000      2.910000  \n",
       "50%        5.710000      3.530000  \n",
       "75%        6.540000      4.040000  \n",
       "max       58.900000     31.800000  "
      ]
     },
     "execution_count": 8,
     "metadata": {},
     "output_type": "execute_result"
    }
   ],
   "source": [
    "diamonds.describe()"
   ]
  },
  {
   "cell_type": "markdown",
   "id": "9a91fcfe",
   "metadata": {},
   "source": [
    "<b><i>Weight_carat:</i></b><br>\n",
    "We see that our mean and median are close<br>\n",
    "There is big diffrent between 75\\% and max<br>\n",
    "<b><i>total_depth%:</i></b><br>\n",
    "We see that our mean and median are close<br>\n",
    "<b><i>table:</i></b><br>\n",
    "We see that our mean and median are close<br>\n",
    "There is big diffrent between 75\\% and max<br>\n",
    "<b><i>price$:</i></b><br>\n",
    "We see that our mean and median are not colse<br>\n",
    "There is big diffrent between 75\\% and max<br>\n",
    "<b><i>length_mm:</i></b><br>\n",
    "We see that our mean and median are close<br>\n",
    "minimum is not logical<br>\n",
    "<b><i>width_mm:</i></b><br>\n",
    "We see that our mean and median are close<br>\n",
    "There is big diffrent between 75\\% and max<br>\n",
    "minimum is not logical<br>\n",
    "<b><i>depth_mm:</i></b><br>\n",
    "We see that our mean and median are close<br>\n",
    "There is big diffrent between 75\\% and max<br>\n",
    "minimum is not logical<br>"
   ]
  },
  {
   "cell_type": "markdown",
   "id": "b3dacbdb",
   "metadata": {},
   "source": [
    "##### to check for min value for  length(mm)"
   ]
  },
  {
   "cell_type": "code",
   "execution_count": 9,
   "id": "9a4e6f4e",
   "metadata": {},
   "outputs": [
    {
     "data": {
      "text/html": [
       "<div>\n",
       "<style scoped>\n",
       "    .dataframe tbody tr th:only-of-type {\n",
       "        vertical-align: middle;\n",
       "    }\n",
       "\n",
       "    .dataframe tbody tr th {\n",
       "        vertical-align: top;\n",
       "    }\n",
       "\n",
       "    .dataframe thead th {\n",
       "        text-align: right;\n",
       "    }\n",
       "</style>\n",
       "<table border=\"1\" class=\"dataframe\">\n",
       "  <thead>\n",
       "    <tr style=\"text-align: right;\">\n",
       "      <th></th>\n",
       "      <th>weight_carat</th>\n",
       "      <th>quality</th>\n",
       "      <th>color</th>\n",
       "      <th>clarity</th>\n",
       "      <th>total_depth%</th>\n",
       "      <th>table</th>\n",
       "      <th>price$</th>\n",
       "      <th>length(mm)</th>\n",
       "      <th>width(mm)</th>\n",
       "      <th>depth(mm)</th>\n",
       "    </tr>\n",
       "  </thead>\n",
       "  <tbody>\n",
       "    <tr>\n",
       "      <th>11183</th>\n",
       "      <td>1.07</td>\n",
       "      <td>Ideal</td>\n",
       "      <td>F</td>\n",
       "      <td>SI2</td>\n",
       "      <td>61.6</td>\n",
       "      <td>56.0</td>\n",
       "      <td>4954</td>\n",
       "      <td>0.0</td>\n",
       "      <td>6.62</td>\n",
       "      <td>0.0</td>\n",
       "    </tr>\n",
       "    <tr>\n",
       "      <th>11964</th>\n",
       "      <td>1.00</td>\n",
       "      <td>Very Good</td>\n",
       "      <td>H</td>\n",
       "      <td>VS2</td>\n",
       "      <td>63.3</td>\n",
       "      <td>53.0</td>\n",
       "      <td>5139</td>\n",
       "      <td>0.0</td>\n",
       "      <td>0.00</td>\n",
       "      <td>0.0</td>\n",
       "    </tr>\n",
       "    <tr>\n",
       "      <th>15952</th>\n",
       "      <td>1.14</td>\n",
       "      <td>Fair</td>\n",
       "      <td>G</td>\n",
       "      <td>VS1</td>\n",
       "      <td>57.5</td>\n",
       "      <td>67.0</td>\n",
       "      <td>6381</td>\n",
       "      <td>0.0</td>\n",
       "      <td>0.00</td>\n",
       "      <td>0.0</td>\n",
       "    </tr>\n",
       "    <tr>\n",
       "      <th>24521</th>\n",
       "      <td>1.56</td>\n",
       "      <td>Ideal</td>\n",
       "      <td>G</td>\n",
       "      <td>VS2</td>\n",
       "      <td>62.2</td>\n",
       "      <td>54.0</td>\n",
       "      <td>12800</td>\n",
       "      <td>0.0</td>\n",
       "      <td>0.00</td>\n",
       "      <td>0.0</td>\n",
       "    </tr>\n",
       "    <tr>\n",
       "      <th>26244</th>\n",
       "      <td>1.20</td>\n",
       "      <td>Premium</td>\n",
       "      <td>D</td>\n",
       "      <td>VVS1</td>\n",
       "      <td>62.1</td>\n",
       "      <td>59.0</td>\n",
       "      <td>15686</td>\n",
       "      <td>0.0</td>\n",
       "      <td>0.00</td>\n",
       "      <td>0.0</td>\n",
       "    </tr>\n",
       "    <tr>\n",
       "      <th>27430</th>\n",
       "      <td>2.25</td>\n",
       "      <td>Premium</td>\n",
       "      <td>H</td>\n",
       "      <td>SI2</td>\n",
       "      <td>62.8</td>\n",
       "      <td>59.0</td>\n",
       "      <td>18034</td>\n",
       "      <td>0.0</td>\n",
       "      <td>0.00</td>\n",
       "      <td>0.0</td>\n",
       "    </tr>\n",
       "    <tr>\n",
       "      <th>49557</th>\n",
       "      <td>0.71</td>\n",
       "      <td>Good</td>\n",
       "      <td>F</td>\n",
       "      <td>SI2</td>\n",
       "      <td>64.1</td>\n",
       "      <td>60.0</td>\n",
       "      <td>2130</td>\n",
       "      <td>0.0</td>\n",
       "      <td>0.00</td>\n",
       "      <td>0.0</td>\n",
       "    </tr>\n",
       "    <tr>\n",
       "      <th>49558</th>\n",
       "      <td>0.71</td>\n",
       "      <td>Good</td>\n",
       "      <td>F</td>\n",
       "      <td>SI2</td>\n",
       "      <td>64.1</td>\n",
       "      <td>60.0</td>\n",
       "      <td>2130</td>\n",
       "      <td>0.0</td>\n",
       "      <td>0.00</td>\n",
       "      <td>0.0</td>\n",
       "    </tr>\n",
       "  </tbody>\n",
       "</table>\n",
       "</div>"
      ],
      "text/plain": [
       "       weight_carat    quality color clarity  total_depth%  table  price$  \\\n",
       "11183          1.07      Ideal     F     SI2          61.6   56.0    4954   \n",
       "11964          1.00  Very Good     H     VS2          63.3   53.0    5139   \n",
       "15952          1.14       Fair     G     VS1          57.5   67.0    6381   \n",
       "24521          1.56      Ideal     G     VS2          62.2   54.0   12800   \n",
       "26244          1.20    Premium     D    VVS1          62.1   59.0   15686   \n",
       "27430          2.25    Premium     H     SI2          62.8   59.0   18034   \n",
       "49557          0.71       Good     F     SI2          64.1   60.0    2130   \n",
       "49558          0.71       Good     F     SI2          64.1   60.0    2130   \n",
       "\n",
       "       length(mm)  width(mm)  depth(mm)  \n",
       "11183         0.0       6.62        0.0  \n",
       "11964         0.0       0.00        0.0  \n",
       "15952         0.0       0.00        0.0  \n",
       "24521         0.0       0.00        0.0  \n",
       "26244         0.0       0.00        0.0  \n",
       "27430         0.0       0.00        0.0  \n",
       "49557         0.0       0.00        0.0  \n",
       "49558         0.0       0.00        0.0  "
      ]
     },
     "execution_count": 9,
     "metadata": {},
     "output_type": "execute_result"
    }
   ],
   "source": [
    "diamonds[diamonds['length(mm)'] == 0]"
   ]
  },
  {
   "cell_type": "code",
   "execution_count": 10,
   "id": "961bb962",
   "metadata": {},
   "outputs": [
    {
     "data": {
      "text/html": [
       "<div>\n",
       "<style scoped>\n",
       "    .dataframe tbody tr th:only-of-type {\n",
       "        vertical-align: middle;\n",
       "    }\n",
       "\n",
       "    .dataframe tbody tr th {\n",
       "        vertical-align: top;\n",
       "    }\n",
       "\n",
       "    .dataframe thead th {\n",
       "        text-align: right;\n",
       "    }\n",
       "</style>\n",
       "<table border=\"1\" class=\"dataframe\">\n",
       "  <thead>\n",
       "    <tr style=\"text-align: right;\">\n",
       "      <th></th>\n",
       "      <th>weight_carat</th>\n",
       "      <th>quality</th>\n",
       "      <th>color</th>\n",
       "      <th>clarity</th>\n",
       "      <th>total_depth%</th>\n",
       "      <th>table</th>\n",
       "      <th>price$</th>\n",
       "      <th>length(mm)</th>\n",
       "      <th>width(mm)</th>\n",
       "      <th>depth(mm)</th>\n",
       "    </tr>\n",
       "  </thead>\n",
       "  <tbody>\n",
       "    <tr>\n",
       "      <th>11964</th>\n",
       "      <td>1.00</td>\n",
       "      <td>Very Good</td>\n",
       "      <td>H</td>\n",
       "      <td>VS2</td>\n",
       "      <td>63.3</td>\n",
       "      <td>53.0</td>\n",
       "      <td>5139</td>\n",
       "      <td>0.0</td>\n",
       "      <td>0.0</td>\n",
       "      <td>0.0</td>\n",
       "    </tr>\n",
       "    <tr>\n",
       "      <th>15952</th>\n",
       "      <td>1.14</td>\n",
       "      <td>Fair</td>\n",
       "      <td>G</td>\n",
       "      <td>VS1</td>\n",
       "      <td>57.5</td>\n",
       "      <td>67.0</td>\n",
       "      <td>6381</td>\n",
       "      <td>0.0</td>\n",
       "      <td>0.0</td>\n",
       "      <td>0.0</td>\n",
       "    </tr>\n",
       "    <tr>\n",
       "      <th>24521</th>\n",
       "      <td>1.56</td>\n",
       "      <td>Ideal</td>\n",
       "      <td>G</td>\n",
       "      <td>VS2</td>\n",
       "      <td>62.2</td>\n",
       "      <td>54.0</td>\n",
       "      <td>12800</td>\n",
       "      <td>0.0</td>\n",
       "      <td>0.0</td>\n",
       "      <td>0.0</td>\n",
       "    </tr>\n",
       "    <tr>\n",
       "      <th>26244</th>\n",
       "      <td>1.20</td>\n",
       "      <td>Premium</td>\n",
       "      <td>D</td>\n",
       "      <td>VVS1</td>\n",
       "      <td>62.1</td>\n",
       "      <td>59.0</td>\n",
       "      <td>15686</td>\n",
       "      <td>0.0</td>\n",
       "      <td>0.0</td>\n",
       "      <td>0.0</td>\n",
       "    </tr>\n",
       "    <tr>\n",
       "      <th>27430</th>\n",
       "      <td>2.25</td>\n",
       "      <td>Premium</td>\n",
       "      <td>H</td>\n",
       "      <td>SI2</td>\n",
       "      <td>62.8</td>\n",
       "      <td>59.0</td>\n",
       "      <td>18034</td>\n",
       "      <td>0.0</td>\n",
       "      <td>0.0</td>\n",
       "      <td>0.0</td>\n",
       "    </tr>\n",
       "    <tr>\n",
       "      <th>49557</th>\n",
       "      <td>0.71</td>\n",
       "      <td>Good</td>\n",
       "      <td>F</td>\n",
       "      <td>SI2</td>\n",
       "      <td>64.1</td>\n",
       "      <td>60.0</td>\n",
       "      <td>2130</td>\n",
       "      <td>0.0</td>\n",
       "      <td>0.0</td>\n",
       "      <td>0.0</td>\n",
       "    </tr>\n",
       "    <tr>\n",
       "      <th>49558</th>\n",
       "      <td>0.71</td>\n",
       "      <td>Good</td>\n",
       "      <td>F</td>\n",
       "      <td>SI2</td>\n",
       "      <td>64.1</td>\n",
       "      <td>60.0</td>\n",
       "      <td>2130</td>\n",
       "      <td>0.0</td>\n",
       "      <td>0.0</td>\n",
       "      <td>0.0</td>\n",
       "    </tr>\n",
       "  </tbody>\n",
       "</table>\n",
       "</div>"
      ],
      "text/plain": [
       "       weight_carat    quality color clarity  total_depth%  table  price$  \\\n",
       "11964          1.00  Very Good     H     VS2          63.3   53.0    5139   \n",
       "15952          1.14       Fair     G     VS1          57.5   67.0    6381   \n",
       "24521          1.56      Ideal     G     VS2          62.2   54.0   12800   \n",
       "26244          1.20    Premium     D    VVS1          62.1   59.0   15686   \n",
       "27430          2.25    Premium     H     SI2          62.8   59.0   18034   \n",
       "49557          0.71       Good     F     SI2          64.1   60.0    2130   \n",
       "49558          0.71       Good     F     SI2          64.1   60.0    2130   \n",
       "\n",
       "       length(mm)  width(mm)  depth(mm)  \n",
       "11964         0.0        0.0        0.0  \n",
       "15952         0.0        0.0        0.0  \n",
       "24521         0.0        0.0        0.0  \n",
       "26244         0.0        0.0        0.0  \n",
       "27430         0.0        0.0        0.0  \n",
       "49557         0.0        0.0        0.0  \n",
       "49558         0.0        0.0        0.0  "
      ]
     },
     "execution_count": 10,
     "metadata": {},
     "output_type": "execute_result"
    }
   ],
   "source": [
    "diamonds[diamonds['width(mm)'] == 0]"
   ]
  },
  {
   "cell_type": "code",
   "execution_count": 11,
   "id": "be9aad92",
   "metadata": {},
   "outputs": [
    {
     "data": {
      "text/html": [
       "<div>\n",
       "<style scoped>\n",
       "    .dataframe tbody tr th:only-of-type {\n",
       "        vertical-align: middle;\n",
       "    }\n",
       "\n",
       "    .dataframe tbody tr th {\n",
       "        vertical-align: top;\n",
       "    }\n",
       "\n",
       "    .dataframe thead th {\n",
       "        text-align: right;\n",
       "    }\n",
       "</style>\n",
       "<table border=\"1\" class=\"dataframe\">\n",
       "  <thead>\n",
       "    <tr style=\"text-align: right;\">\n",
       "      <th></th>\n",
       "      <th>weight_carat</th>\n",
       "      <th>quality</th>\n",
       "      <th>color</th>\n",
       "      <th>clarity</th>\n",
       "      <th>total_depth%</th>\n",
       "      <th>table</th>\n",
       "      <th>price$</th>\n",
       "      <th>length(mm)</th>\n",
       "      <th>width(mm)</th>\n",
       "      <th>depth(mm)</th>\n",
       "    </tr>\n",
       "  </thead>\n",
       "  <tbody>\n",
       "    <tr>\n",
       "      <th>2208</th>\n",
       "      <td>1.00</td>\n",
       "      <td>Premium</td>\n",
       "      <td>G</td>\n",
       "      <td>SI2</td>\n",
       "      <td>59.1</td>\n",
       "      <td>59.0</td>\n",
       "      <td>3142</td>\n",
       "      <td>6.55</td>\n",
       "      <td>6.48</td>\n",
       "      <td>0.0</td>\n",
       "    </tr>\n",
       "    <tr>\n",
       "      <th>2315</th>\n",
       "      <td>1.01</td>\n",
       "      <td>Premium</td>\n",
       "      <td>H</td>\n",
       "      <td>I1</td>\n",
       "      <td>58.1</td>\n",
       "      <td>59.0</td>\n",
       "      <td>3167</td>\n",
       "      <td>6.66</td>\n",
       "      <td>6.60</td>\n",
       "      <td>0.0</td>\n",
       "    </tr>\n",
       "    <tr>\n",
       "      <th>4792</th>\n",
       "      <td>1.10</td>\n",
       "      <td>Premium</td>\n",
       "      <td>G</td>\n",
       "      <td>SI2</td>\n",
       "      <td>63.0</td>\n",
       "      <td>59.0</td>\n",
       "      <td>3696</td>\n",
       "      <td>6.50</td>\n",
       "      <td>6.47</td>\n",
       "      <td>0.0</td>\n",
       "    </tr>\n",
       "    <tr>\n",
       "      <th>5472</th>\n",
       "      <td>1.01</td>\n",
       "      <td>Premium</td>\n",
       "      <td>F</td>\n",
       "      <td>SI2</td>\n",
       "      <td>59.2</td>\n",
       "      <td>58.0</td>\n",
       "      <td>3837</td>\n",
       "      <td>6.50</td>\n",
       "      <td>6.47</td>\n",
       "      <td>0.0</td>\n",
       "    </tr>\n",
       "    <tr>\n",
       "      <th>10168</th>\n",
       "      <td>1.50</td>\n",
       "      <td>Good</td>\n",
       "      <td>G</td>\n",
       "      <td>I1</td>\n",
       "      <td>64.0</td>\n",
       "      <td>61.0</td>\n",
       "      <td>4731</td>\n",
       "      <td>7.15</td>\n",
       "      <td>7.04</td>\n",
       "      <td>0.0</td>\n",
       "    </tr>\n",
       "    <tr>\n",
       "      <th>11183</th>\n",
       "      <td>1.07</td>\n",
       "      <td>Ideal</td>\n",
       "      <td>F</td>\n",
       "      <td>SI2</td>\n",
       "      <td>61.6</td>\n",
       "      <td>56.0</td>\n",
       "      <td>4954</td>\n",
       "      <td>0.00</td>\n",
       "      <td>6.62</td>\n",
       "      <td>0.0</td>\n",
       "    </tr>\n",
       "    <tr>\n",
       "      <th>11964</th>\n",
       "      <td>1.00</td>\n",
       "      <td>Very Good</td>\n",
       "      <td>H</td>\n",
       "      <td>VS2</td>\n",
       "      <td>63.3</td>\n",
       "      <td>53.0</td>\n",
       "      <td>5139</td>\n",
       "      <td>0.00</td>\n",
       "      <td>0.00</td>\n",
       "      <td>0.0</td>\n",
       "    </tr>\n",
       "    <tr>\n",
       "      <th>13602</th>\n",
       "      <td>1.15</td>\n",
       "      <td>Ideal</td>\n",
       "      <td>G</td>\n",
       "      <td>VS2</td>\n",
       "      <td>59.2</td>\n",
       "      <td>56.0</td>\n",
       "      <td>5564</td>\n",
       "      <td>6.88</td>\n",
       "      <td>6.83</td>\n",
       "      <td>0.0</td>\n",
       "    </tr>\n",
       "    <tr>\n",
       "      <th>15952</th>\n",
       "      <td>1.14</td>\n",
       "      <td>Fair</td>\n",
       "      <td>G</td>\n",
       "      <td>VS1</td>\n",
       "      <td>57.5</td>\n",
       "      <td>67.0</td>\n",
       "      <td>6381</td>\n",
       "      <td>0.00</td>\n",
       "      <td>0.00</td>\n",
       "      <td>0.0</td>\n",
       "    </tr>\n",
       "    <tr>\n",
       "      <th>24395</th>\n",
       "      <td>2.18</td>\n",
       "      <td>Premium</td>\n",
       "      <td>H</td>\n",
       "      <td>SI2</td>\n",
       "      <td>59.4</td>\n",
       "      <td>61.0</td>\n",
       "      <td>12631</td>\n",
       "      <td>8.49</td>\n",
       "      <td>8.45</td>\n",
       "      <td>0.0</td>\n",
       "    </tr>\n",
       "    <tr>\n",
       "      <th>24521</th>\n",
       "      <td>1.56</td>\n",
       "      <td>Ideal</td>\n",
       "      <td>G</td>\n",
       "      <td>VS2</td>\n",
       "      <td>62.2</td>\n",
       "      <td>54.0</td>\n",
       "      <td>12800</td>\n",
       "      <td>0.00</td>\n",
       "      <td>0.00</td>\n",
       "      <td>0.0</td>\n",
       "    </tr>\n",
       "    <tr>\n",
       "      <th>26124</th>\n",
       "      <td>2.25</td>\n",
       "      <td>Premium</td>\n",
       "      <td>I</td>\n",
       "      <td>SI1</td>\n",
       "      <td>61.3</td>\n",
       "      <td>58.0</td>\n",
       "      <td>15397</td>\n",
       "      <td>8.52</td>\n",
       "      <td>8.42</td>\n",
       "      <td>0.0</td>\n",
       "    </tr>\n",
       "    <tr>\n",
       "      <th>26244</th>\n",
       "      <td>1.20</td>\n",
       "      <td>Premium</td>\n",
       "      <td>D</td>\n",
       "      <td>VVS1</td>\n",
       "      <td>62.1</td>\n",
       "      <td>59.0</td>\n",
       "      <td>15686</td>\n",
       "      <td>0.00</td>\n",
       "      <td>0.00</td>\n",
       "      <td>0.0</td>\n",
       "    </tr>\n",
       "    <tr>\n",
       "      <th>27113</th>\n",
       "      <td>2.20</td>\n",
       "      <td>Premium</td>\n",
       "      <td>H</td>\n",
       "      <td>SI1</td>\n",
       "      <td>61.2</td>\n",
       "      <td>59.0</td>\n",
       "      <td>17265</td>\n",
       "      <td>8.42</td>\n",
       "      <td>8.37</td>\n",
       "      <td>0.0</td>\n",
       "    </tr>\n",
       "    <tr>\n",
       "      <th>27430</th>\n",
       "      <td>2.25</td>\n",
       "      <td>Premium</td>\n",
       "      <td>H</td>\n",
       "      <td>SI2</td>\n",
       "      <td>62.8</td>\n",
       "      <td>59.0</td>\n",
       "      <td>18034</td>\n",
       "      <td>0.00</td>\n",
       "      <td>0.00</td>\n",
       "      <td>0.0</td>\n",
       "    </tr>\n",
       "    <tr>\n",
       "      <th>27504</th>\n",
       "      <td>2.02</td>\n",
       "      <td>Premium</td>\n",
       "      <td>H</td>\n",
       "      <td>VS2</td>\n",
       "      <td>62.7</td>\n",
       "      <td>53.0</td>\n",
       "      <td>18207</td>\n",
       "      <td>8.02</td>\n",
       "      <td>7.95</td>\n",
       "      <td>0.0</td>\n",
       "    </tr>\n",
       "    <tr>\n",
       "      <th>27740</th>\n",
       "      <td>2.80</td>\n",
       "      <td>Good</td>\n",
       "      <td>G</td>\n",
       "      <td>SI2</td>\n",
       "      <td>63.8</td>\n",
       "      <td>58.0</td>\n",
       "      <td>18788</td>\n",
       "      <td>8.90</td>\n",
       "      <td>8.85</td>\n",
       "      <td>0.0</td>\n",
       "    </tr>\n",
       "    <tr>\n",
       "      <th>49557</th>\n",
       "      <td>0.71</td>\n",
       "      <td>Good</td>\n",
       "      <td>F</td>\n",
       "      <td>SI2</td>\n",
       "      <td>64.1</td>\n",
       "      <td>60.0</td>\n",
       "      <td>2130</td>\n",
       "      <td>0.00</td>\n",
       "      <td>0.00</td>\n",
       "      <td>0.0</td>\n",
       "    </tr>\n",
       "    <tr>\n",
       "      <th>49558</th>\n",
       "      <td>0.71</td>\n",
       "      <td>Good</td>\n",
       "      <td>F</td>\n",
       "      <td>SI2</td>\n",
       "      <td>64.1</td>\n",
       "      <td>60.0</td>\n",
       "      <td>2130</td>\n",
       "      <td>0.00</td>\n",
       "      <td>0.00</td>\n",
       "      <td>0.0</td>\n",
       "    </tr>\n",
       "    <tr>\n",
       "      <th>51507</th>\n",
       "      <td>1.12</td>\n",
       "      <td>Premium</td>\n",
       "      <td>G</td>\n",
       "      <td>I1</td>\n",
       "      <td>60.4</td>\n",
       "      <td>59.0</td>\n",
       "      <td>2383</td>\n",
       "      <td>6.71</td>\n",
       "      <td>6.67</td>\n",
       "      <td>0.0</td>\n",
       "    </tr>\n",
       "  </tbody>\n",
       "</table>\n",
       "</div>"
      ],
      "text/plain": [
       "       weight_carat    quality color clarity  total_depth%  table  price$  \\\n",
       "2208           1.00    Premium     G     SI2          59.1   59.0    3142   \n",
       "2315           1.01    Premium     H      I1          58.1   59.0    3167   \n",
       "4792           1.10    Premium     G     SI2          63.0   59.0    3696   \n",
       "5472           1.01    Premium     F     SI2          59.2   58.0    3837   \n",
       "10168          1.50       Good     G      I1          64.0   61.0    4731   \n",
       "11183          1.07      Ideal     F     SI2          61.6   56.0    4954   \n",
       "11964          1.00  Very Good     H     VS2          63.3   53.0    5139   \n",
       "13602          1.15      Ideal     G     VS2          59.2   56.0    5564   \n",
       "15952          1.14       Fair     G     VS1          57.5   67.0    6381   \n",
       "24395          2.18    Premium     H     SI2          59.4   61.0   12631   \n",
       "24521          1.56      Ideal     G     VS2          62.2   54.0   12800   \n",
       "26124          2.25    Premium     I     SI1          61.3   58.0   15397   \n",
       "26244          1.20    Premium     D    VVS1          62.1   59.0   15686   \n",
       "27113          2.20    Premium     H     SI1          61.2   59.0   17265   \n",
       "27430          2.25    Premium     H     SI2          62.8   59.0   18034   \n",
       "27504          2.02    Premium     H     VS2          62.7   53.0   18207   \n",
       "27740          2.80       Good     G     SI2          63.8   58.0   18788   \n",
       "49557          0.71       Good     F     SI2          64.1   60.0    2130   \n",
       "49558          0.71       Good     F     SI2          64.1   60.0    2130   \n",
       "51507          1.12    Premium     G      I1          60.4   59.0    2383   \n",
       "\n",
       "       length(mm)  width(mm)  depth(mm)  \n",
       "2208         6.55       6.48        0.0  \n",
       "2315         6.66       6.60        0.0  \n",
       "4792         6.50       6.47        0.0  \n",
       "5472         6.50       6.47        0.0  \n",
       "10168        7.15       7.04        0.0  \n",
       "11183        0.00       6.62        0.0  \n",
       "11964        0.00       0.00        0.0  \n",
       "13602        6.88       6.83        0.0  \n",
       "15952        0.00       0.00        0.0  \n",
       "24395        8.49       8.45        0.0  \n",
       "24521        0.00       0.00        0.0  \n",
       "26124        8.52       8.42        0.0  \n",
       "26244        0.00       0.00        0.0  \n",
       "27113        8.42       8.37        0.0  \n",
       "27430        0.00       0.00        0.0  \n",
       "27504        8.02       7.95        0.0  \n",
       "27740        8.90       8.85        0.0  \n",
       "49557        0.00       0.00        0.0  \n",
       "49558        0.00       0.00        0.0  \n",
       "51507        6.71       6.67        0.0  "
      ]
     },
     "execution_count": 11,
     "metadata": {},
     "output_type": "execute_result"
    }
   ],
   "source": [
    "diamonds[diamonds['depth(mm)'] == 0]"
   ]
  },
  {
   "cell_type": "markdown",
   "id": "7fd584ff",
   "metadata": {},
   "source": [
    "All incorrect value sherd in depth(mm) column"
   ]
  },
  {
   "cell_type": "markdown",
   "id": "c62beffa",
   "metadata": {},
   "source": [
    "##### check if incorrect value more than 5% or not"
   ]
  },
  {
   "cell_type": "code",
   "execution_count": 12,
   "id": "682b6421",
   "metadata": {},
   "outputs": [],
   "source": [
    "droped_data_rows = diamonds[diamonds['depth(mm)'] == 0].shape[0]"
   ]
  },
  {
   "cell_type": "code",
   "execution_count": 13,
   "id": "bd73937b",
   "metadata": {},
   "outputs": [
    {
     "name": "stdout",
     "output_type": "stream",
     "text": [
      "The diamond data set have 53940 rows and data want to be droped have 20 rows, that is 0.04%\n"
     ]
    }
   ],
   "source": [
    "print(f'The diamond data set have {diamonds.shape[0]} rows and data want to be droped have {droped_data_rows} rows, that is {round((droped_data_rows / diamonds.shape[0]) * 100, 2)}%')"
   ]
  },
  {
   "cell_type": "markdown",
   "id": "34af32c9",
   "metadata": {},
   "source": [
    "When it is incorrect value prexented 0.04% of orginal data that will be not afffected on the orginal data"
   ]
  },
  {
   "cell_type": "markdown",
   "id": "6a7d7177",
   "metadata": {},
   "source": [
    "##### remove incorrect value"
   ]
  },
  {
   "cell_type": "code",
   "execution_count": 14,
   "id": "14416762",
   "metadata": {},
   "outputs": [],
   "source": [
    "diamonds = diamonds[diamonds['depth(mm)'] != 0]"
   ]
  },
  {
   "cell_type": "code",
   "execution_count": 15,
   "id": "772545d2",
   "metadata": {},
   "outputs": [
    {
     "data": {
      "text/html": [
       "<div>\n",
       "<style scoped>\n",
       "    .dataframe tbody tr th:only-of-type {\n",
       "        vertical-align: middle;\n",
       "    }\n",
       "\n",
       "    .dataframe tbody tr th {\n",
       "        vertical-align: top;\n",
       "    }\n",
       "\n",
       "    .dataframe thead th {\n",
       "        text-align: right;\n",
       "    }\n",
       "</style>\n",
       "<table border=\"1\" class=\"dataframe\">\n",
       "  <thead>\n",
       "    <tr style=\"text-align: right;\">\n",
       "      <th></th>\n",
       "      <th>weight_carat</th>\n",
       "      <th>total_depth%</th>\n",
       "      <th>table</th>\n",
       "      <th>price$</th>\n",
       "      <th>length(mm)</th>\n",
       "      <th>width(mm)</th>\n",
       "      <th>depth(mm)</th>\n",
       "    </tr>\n",
       "  </thead>\n",
       "  <tbody>\n",
       "    <tr>\n",
       "      <th>count</th>\n",
       "      <td>53920.000000</td>\n",
       "      <td>53920.000000</td>\n",
       "      <td>53920.000000</td>\n",
       "      <td>53920.000000</td>\n",
       "      <td>53920.000000</td>\n",
       "      <td>53920.000000</td>\n",
       "      <td>53920.000000</td>\n",
       "    </tr>\n",
       "    <tr>\n",
       "      <th>mean</th>\n",
       "      <td>0.797698</td>\n",
       "      <td>61.749514</td>\n",
       "      <td>57.456834</td>\n",
       "      <td>3930.993231</td>\n",
       "      <td>5.731627</td>\n",
       "      <td>5.734887</td>\n",
       "      <td>3.540046</td>\n",
       "    </tr>\n",
       "    <tr>\n",
       "      <th>std</th>\n",
       "      <td>0.473795</td>\n",
       "      <td>1.432331</td>\n",
       "      <td>2.234064</td>\n",
       "      <td>3987.280446</td>\n",
       "      <td>1.119423</td>\n",
       "      <td>1.140126</td>\n",
       "      <td>0.702530</td>\n",
       "    </tr>\n",
       "    <tr>\n",
       "      <th>min</th>\n",
       "      <td>0.200000</td>\n",
       "      <td>43.000000</td>\n",
       "      <td>43.000000</td>\n",
       "      <td>326.000000</td>\n",
       "      <td>3.730000</td>\n",
       "      <td>3.680000</td>\n",
       "      <td>1.070000</td>\n",
       "    </tr>\n",
       "    <tr>\n",
       "      <th>25%</th>\n",
       "      <td>0.400000</td>\n",
       "      <td>61.000000</td>\n",
       "      <td>56.000000</td>\n",
       "      <td>949.000000</td>\n",
       "      <td>4.710000</td>\n",
       "      <td>4.720000</td>\n",
       "      <td>2.910000</td>\n",
       "    </tr>\n",
       "    <tr>\n",
       "      <th>50%</th>\n",
       "      <td>0.700000</td>\n",
       "      <td>61.800000</td>\n",
       "      <td>57.000000</td>\n",
       "      <td>2401.000000</td>\n",
       "      <td>5.700000</td>\n",
       "      <td>5.710000</td>\n",
       "      <td>3.530000</td>\n",
       "    </tr>\n",
       "    <tr>\n",
       "      <th>75%</th>\n",
       "      <td>1.040000</td>\n",
       "      <td>62.500000</td>\n",
       "      <td>59.000000</td>\n",
       "      <td>5323.250000</td>\n",
       "      <td>6.540000</td>\n",
       "      <td>6.540000</td>\n",
       "      <td>4.040000</td>\n",
       "    </tr>\n",
       "    <tr>\n",
       "      <th>max</th>\n",
       "      <td>5.010000</td>\n",
       "      <td>79.000000</td>\n",
       "      <td>95.000000</td>\n",
       "      <td>18823.000000</td>\n",
       "      <td>10.740000</td>\n",
       "      <td>58.900000</td>\n",
       "      <td>31.800000</td>\n",
       "    </tr>\n",
       "  </tbody>\n",
       "</table>\n",
       "</div>"
      ],
      "text/plain": [
       "       weight_carat  total_depth%         table        price$    length(mm)  \\\n",
       "count  53920.000000  53920.000000  53920.000000  53920.000000  53920.000000   \n",
       "mean       0.797698     61.749514     57.456834   3930.993231      5.731627   \n",
       "std        0.473795      1.432331      2.234064   3987.280446      1.119423   \n",
       "min        0.200000     43.000000     43.000000    326.000000      3.730000   \n",
       "25%        0.400000     61.000000     56.000000    949.000000      4.710000   \n",
       "50%        0.700000     61.800000     57.000000   2401.000000      5.700000   \n",
       "75%        1.040000     62.500000     59.000000   5323.250000      6.540000   \n",
       "max        5.010000     79.000000     95.000000  18823.000000     10.740000   \n",
       "\n",
       "          width(mm)     depth(mm)  \n",
       "count  53920.000000  53920.000000  \n",
       "mean       5.734887      3.540046  \n",
       "std        1.140126      0.702530  \n",
       "min        3.680000      1.070000  \n",
       "25%        4.720000      2.910000  \n",
       "50%        5.710000      3.530000  \n",
       "75%        6.540000      4.040000  \n",
       "max       58.900000     31.800000  "
      ]
     },
     "execution_count": 15,
     "metadata": {},
     "output_type": "execute_result"
    }
   ],
   "source": [
    "diamonds.describe()"
   ]
  },
  {
   "cell_type": "markdown",
   "id": "5c0e2656",
   "metadata": {},
   "source": [
    "##### categorize the color to Colorless or Near colorless"
   ]
  },
  {
   "cell_type": "code",
   "execution_count": 16,
   "id": "2833b62d",
   "metadata": {},
   "outputs": [],
   "source": [
    "diamonds['color_type'] = diamonds.color.map({\n",
    "    'D': 'Colorless' ,\n",
    "    'E': 'Colorless' ,\n",
    "    'F': 'Colorless' ,\n",
    "    'J': 'Near colorless' ,\n",
    "    'H': 'Near colorless' ,\n",
    "    'I': 'Near colorless' ,\n",
    "    'G': 'Near colorless' \n",
    "})"
   ]
  },
  {
   "cell_type": "code",
   "execution_count": 17,
   "id": "d97e359d",
   "metadata": {},
   "outputs": [
    {
     "data": {
      "text/html": [
       "<div>\n",
       "<style scoped>\n",
       "    .dataframe tbody tr th:only-of-type {\n",
       "        vertical-align: middle;\n",
       "    }\n",
       "\n",
       "    .dataframe tbody tr th {\n",
       "        vertical-align: top;\n",
       "    }\n",
       "\n",
       "    .dataframe thead th {\n",
       "        text-align: right;\n",
       "    }\n",
       "</style>\n",
       "<table border=\"1\" class=\"dataframe\">\n",
       "  <thead>\n",
       "    <tr style=\"text-align: right;\">\n",
       "      <th></th>\n",
       "      <th>weight_carat</th>\n",
       "      <th>quality</th>\n",
       "      <th>color</th>\n",
       "      <th>clarity</th>\n",
       "      <th>total_depth%</th>\n",
       "      <th>table</th>\n",
       "      <th>price$</th>\n",
       "      <th>length(mm)</th>\n",
       "      <th>width(mm)</th>\n",
       "      <th>depth(mm)</th>\n",
       "      <th>color_type</th>\n",
       "    </tr>\n",
       "  </thead>\n",
       "  <tbody>\n",
       "    <tr>\n",
       "      <th>1</th>\n",
       "      <td>0.23</td>\n",
       "      <td>Ideal</td>\n",
       "      <td>E</td>\n",
       "      <td>SI2</td>\n",
       "      <td>61.5</td>\n",
       "      <td>55.0</td>\n",
       "      <td>326</td>\n",
       "      <td>3.95</td>\n",
       "      <td>3.98</td>\n",
       "      <td>2.43</td>\n",
       "      <td>Colorless</td>\n",
       "    </tr>\n",
       "    <tr>\n",
       "      <th>2</th>\n",
       "      <td>0.21</td>\n",
       "      <td>Premium</td>\n",
       "      <td>E</td>\n",
       "      <td>SI1</td>\n",
       "      <td>59.8</td>\n",
       "      <td>61.0</td>\n",
       "      <td>326</td>\n",
       "      <td>3.89</td>\n",
       "      <td>3.84</td>\n",
       "      <td>2.31</td>\n",
       "      <td>Colorless</td>\n",
       "    </tr>\n",
       "    <tr>\n",
       "      <th>3</th>\n",
       "      <td>0.23</td>\n",
       "      <td>Good</td>\n",
       "      <td>E</td>\n",
       "      <td>VS1</td>\n",
       "      <td>56.9</td>\n",
       "      <td>65.0</td>\n",
       "      <td>327</td>\n",
       "      <td>4.05</td>\n",
       "      <td>4.07</td>\n",
       "      <td>2.31</td>\n",
       "      <td>Colorless</td>\n",
       "    </tr>\n",
       "    <tr>\n",
       "      <th>4</th>\n",
       "      <td>0.29</td>\n",
       "      <td>Premium</td>\n",
       "      <td>I</td>\n",
       "      <td>VS2</td>\n",
       "      <td>62.4</td>\n",
       "      <td>58.0</td>\n",
       "      <td>334</td>\n",
       "      <td>4.20</td>\n",
       "      <td>4.23</td>\n",
       "      <td>2.63</td>\n",
       "      <td>Near colorless</td>\n",
       "    </tr>\n",
       "    <tr>\n",
       "      <th>5</th>\n",
       "      <td>0.31</td>\n",
       "      <td>Good</td>\n",
       "      <td>J</td>\n",
       "      <td>SI2</td>\n",
       "      <td>63.3</td>\n",
       "      <td>58.0</td>\n",
       "      <td>335</td>\n",
       "      <td>4.34</td>\n",
       "      <td>4.35</td>\n",
       "      <td>2.75</td>\n",
       "      <td>Near colorless</td>\n",
       "    </tr>\n",
       "  </tbody>\n",
       "</table>\n",
       "</div>"
      ],
      "text/plain": [
       "   weight_carat  quality color clarity  total_depth%  table  price$  \\\n",
       "1          0.23    Ideal     E     SI2          61.5   55.0     326   \n",
       "2          0.21  Premium     E     SI1          59.8   61.0     326   \n",
       "3          0.23     Good     E     VS1          56.9   65.0     327   \n",
       "4          0.29  Premium     I     VS2          62.4   58.0     334   \n",
       "5          0.31     Good     J     SI2          63.3   58.0     335   \n",
       "\n",
       "   length(mm)  width(mm)  depth(mm)      color_type  \n",
       "1        3.95       3.98       2.43       Colorless  \n",
       "2        3.89       3.84       2.31       Colorless  \n",
       "3        4.05       4.07       2.31       Colorless  \n",
       "4        4.20       4.23       2.63  Near colorless  \n",
       "5        4.34       4.35       2.75  Near colorless  "
      ]
     },
     "execution_count": 17,
     "metadata": {},
     "output_type": "execute_result"
    }
   ],
   "source": [
    "diamonds.head()"
   ]
  },
  {
   "cell_type": "markdown",
   "id": "756be3c3",
   "metadata": {},
   "source": [
    "## visualization"
   ]
  },
  {
   "cell_type": "markdown",
   "id": "1b0adf7a",
   "metadata": {},
   "source": [
    "##### function for remove maximum outliers"
   ]
  },
  {
   "cell_type": "code",
   "execution_count": 18,
   "id": "e997621c",
   "metadata": {},
   "outputs": [],
   "source": [
    "def remove_outliers_max(dataset, column, mean = True):\n",
    "    print(f'Column is {column}')\n",
    "    p_max = 0\n",
    "    while True :\n",
    "        Q1 = dataset[[column]].quantile(0.25)\n",
    "        Q3 = dataset[[column]].quantile(0.75)\n",
    "        print(f'Q1 is {int(Q1)}')\n",
    "        print(f'Q3 is {int(Q3)}')\n",
    "            \n",
    "        if (int(pd.isna(Q1)) == 1) | (int(pd.isna(Q3)) == 1):\n",
    "            break\n",
    "            \n",
    "        max = int(Q3 + 1.5 * (Q3 - Q1))\n",
    "        print(f'IQR is {int(Q3 - Q1)}')\n",
    "        print(f'Max value is {max}')\n",
    "        \n",
    "        \n",
    "        if (max == p_max):\n",
    "            break\n",
    "            \n",
    "        pr=dataset.loc[dataset[column]> max, column].count()/dataset.shape[0]*100\n",
    "        print(f'Percint of outliers is {round(pr,2)}%')\n",
    "        \n",
    "        if pr>5:\n",
    "            if mean:\n",
    "                new = dataset[column].mean()\n",
    "                print(f'Actoin is change outliers values with mean')\n",
    "            else:\n",
    "                new= dataset[column].median()\n",
    "                print(f'Actoin is change outliers values with median')\n",
    "            \n",
    "            dataset.loc[dataset[column] > max, column] = new\n",
    "        else:\n",
    "            dataset=dataset[dataset[column]<=max]\n",
    "            print(f'Actoin is delete outliers')\n",
    "    \n",
    "        p_max = max \n",
    "        print(' ')\n",
    "        \n",
    "    return dataset "
   ]
  },
  {
   "cell_type": "markdown",
   "id": "90582c8c",
   "metadata": {},
   "source": [
    "##### function for remove minimum outliers"
   ]
  },
  {
   "cell_type": "code",
   "execution_count": 19,
   "id": "ab59148e",
   "metadata": {},
   "outputs": [],
   "source": [
    "def remove_outliers_min(dataset, column, mean = True):\n",
    "    print(f'Column is {column}')\n",
    "    p_min = 0\n",
    "    while True :\n",
    "        Q1 = dataset[[column]].quantile(0.25)\n",
    "        Q3 = dataset[[column]].quantile(0.75)\n",
    "        print(f'Q1 is {int(Q1)}')\n",
    "        print(f'Q3 is {int(Q3)}')   \n",
    "        \n",
    "        if (int(pd.isna(Q1)) == 1) | (int(pd.isna(Q3)) == 1):\n",
    "            break\n",
    "            \n",
    "        min = int(Q3 - 1.5 * (Q3 - Q1))\n",
    "        print(f'IQR is {int(Q3 - Q1)}')\n",
    "        print(f'Max value is {max}')\n",
    "        \n",
    "        if (min == p_min):\n",
    "            break\n",
    "            \n",
    "        pr=dataset.loc[dataset[column]< min, column].count()/dataset.shape[0]*100\n",
    "        print(f'Percint of outliers is {round(pr,2)}%')\n",
    "        \n",
    "        if pr>5:\n",
    "            if mean:\n",
    "                new = dataset[column].mean()\n",
    "                print(f'Actoin is change outliers values with mean')\n",
    "            else:\n",
    "                new= dataset[column].median()\n",
    "                print(f'Actoin is change outliers values with median')\n",
    "                \n",
    "            dataset.loc[dataset[column] < min, column] = new\n",
    "        else:\n",
    "            dataset=dataset[dataset[column]>=min]\n",
    "            print(f'Actoin is delete outliers \\n')\n",
    "        \n",
    "        p_min = min \n",
    "        print(' ')\n",
    "        \n",
    "    return dataset "
   ]
  },
  {
   "cell_type": "markdown",
   "id": "2515396b",
   "metadata": {},
   "source": [
    "##### check the distribution and outliers"
   ]
  },
  {
   "cell_type": "markdown",
   "id": "ad9bd1fb",
   "metadata": {},
   "source": [
    "##### price\\$ column"
   ]
  },
  {
   "cell_type": "code",
   "execution_count": 20,
   "id": "d4aa55f0",
   "metadata": {},
   "outputs": [
    {
     "data": {
      "image/png": "[encoded data removed]",
      "text/plain": [
       "<Figure size 1440x720 with 1 Axes>"
      ]
     },
     "metadata": {
      "needs_background": "light"
     },
     "output_type": "display_data"
    }
   ],
   "source": [
    "plt.figure(figsize=(20,10))\n",
    "sns.boxplot(data=diamonds[['price$']]);"
   ]
  },
  {
   "cell_type": "markdown",
   "id": "1243ed33",
   "metadata": {},
   "source": [
    "There are max outliers"
   ]
  },
  {
   "cell_type": "markdown",
   "id": "30df885f",
   "metadata": {},
   "source": [
    "##### make action delete or replace using a function "
   ]
  },
  {
   "cell_type": "code",
   "execution_count": 21,
   "id": "5136677e",
   "metadata": {},
   "outputs": [
    {
     "name": "stdout",
     "output_type": "stream",
     "text": [
      "Column is price$\n",
      "Q1 is 949\n",
      "Q3 is 5323\n",
      "IQR is 4374\n",
      "Max value is 11884\n",
      "Percint of outliers is 6.55%\n",
      "Actoin is change outliers values with median\n",
      " \n",
      "Q1 is 949\n",
      "Q3 is 4478\n",
      "IQR is 3529\n",
      "Max value is 9771\n",
      "Percint of outliers is 3.54%\n",
      "Actoin is delete outliers\n",
      " \n",
      "Q1 is 928\n",
      "Q3 is 4197\n",
      "IQR is 3269\n",
      "Max value is 9100\n",
      "Percint of outliers is 1.41%\n",
      "Actoin is delete outliers\n",
      " \n",
      "Q1 is 919\n",
      "Q3 is 4082\n",
      "IQR is 3163\n",
      "Max value is 8826\n",
      "Percint of outliers is 0.7%\n",
      "Actoin is delete outliers\n",
      " \n",
      "Q1 is 915\n",
      "Q3 is 4026\n",
      "IQR is 3111\n",
      "Max value is 8694\n",
      "Percint of outliers is 0.37%\n",
      "Actoin is delete outliers\n",
      " \n",
      "Q1 is 912\n",
      "Q3 is 3992\n",
      "IQR is 3080\n",
      "Max value is 8612\n",
      "Percint of outliers is 0.23%\n",
      "Actoin is delete outliers\n",
      " \n",
      "Q1 is 911\n",
      "Q3 is 3973\n",
      "IQR is 3062\n",
      "Max value is 8566\n",
      "Percint of outliers is 0.13%\n",
      "Actoin is delete outliers\n",
      " \n",
      "Q1 is 911\n",
      "Q3 is 3959\n",
      "IQR is 3048\n",
      "Max value is 8532\n",
      "Percint of outliers is 0.07%\n",
      "Actoin is delete outliers\n",
      " \n",
      "Q1 is 911\n",
      "Q3 is 3951\n",
      "IQR is 3040\n",
      "Max value is 8511\n",
      "Percint of outliers is 0.07%\n",
      "Actoin is delete outliers\n",
      " \n",
      "Q1 is 911\n",
      "Q3 is 3950\n",
      "IQR is 3039\n",
      "Max value is 8508\n",
      "Percint of outliers is 0.0%\n",
      "Actoin is delete outliers\n",
      " \n",
      "Q1 is 911\n",
      "Q3 is 3949\n",
      "IQR is 3038\n",
      "Max value is 8506\n",
      "Percint of outliers is 0.0%\n",
      "Actoin is delete outliers\n",
      " \n",
      "Q1 is 911\n",
      "Q3 is 3949\n",
      "IQR is 3038\n",
      "Max value is 8506\n"
     ]
    }
   ],
   "source": [
    "diamonds = remove_outliers_max(diamonds,'price$', False)"
   ]
  },
  {
   "cell_type": "markdown",
   "id": "30aeaa33",
   "metadata": {},
   "source": [
    "#####  recheck on price\\$ column"
   ]
  },
  {
   "cell_type": "code",
   "execution_count": 22,
   "id": "0e3230a6",
   "metadata": {},
   "outputs": [
    {
     "data": {
      "image/png": "[encoded data removed]",
      "text/plain": [
       "<Figure size 1440x720 with 1 Axes>"
      ]
     },
     "metadata": {
      "needs_background": "light"
     },
     "output_type": "display_data"
    }
   ],
   "source": [
    "plt.figure(figsize=(20,10))\n",
    "sns.boxplot(data=diamonds[['price$']]);"
   ]
  },
  {
   "cell_type": "markdown",
   "id": "fef24d5d",
   "metadata": {},
   "source": [
    "There are not outliers"
   ]
  },
  {
   "cell_type": "markdown",
   "id": "9650525f",
   "metadata": {},
   "source": [
    "##### weight_carat column"
   ]
  },
  {
   "cell_type": "code",
   "execution_count": 23,
   "id": "2b852460",
   "metadata": {},
   "outputs": [
    {
     "data": {
      "image/png": "[encoded data removed]",
      "text/plain": [
       "<Figure size 1440x720 with 1 Axes>"
      ]
     },
     "metadata": {
      "needs_background": "light"
     },
     "output_type": "display_data"
    }
   ],
   "source": [
    "plt.figure(figsize=(20,10))\n",
    "sns.boxplot(data=diamonds[['weight_carat']]);"
   ]
  },
  {
   "cell_type": "markdown",
   "id": "aab1aa38",
   "metadata": {},
   "source": [
    "There are max outliers"
   ]
  },
  {
   "cell_type": "markdown",
   "id": "789bfcb1",
   "metadata": {},
   "source": [
    "##### make action delete or replace using a function "
   ]
  },
  {
   "cell_type": "code",
   "execution_count": 24,
   "id": "6a30776e",
   "metadata": {},
   "outputs": [
    {
     "name": "stdout",
     "output_type": "stream",
     "text": [
      "Column is weight_carat\n",
      "Q1 is 0\n",
      "Q3 is 1\n",
      "IQR is 0\n",
      "Max value is 1\n",
      "Percint of outliers is 27.94%\n",
      "Actoin is change outliers values with mean\n",
      " \n",
      "Q1 is 0\n",
      "Q3 is 0\n",
      "IQR is 0\n",
      "Max value is 1\n"
     ]
    }
   ],
   "source": [
    "diamonds = remove_outliers_max(diamonds,'weight_carat')"
   ]
  },
  {
   "cell_type": "markdown",
   "id": "85e0a888",
   "metadata": {},
   "source": [
    "#####  recheck on weight_carat column"
   ]
  },
  {
   "cell_type": "code",
   "execution_count": 25,
   "id": "5469f76d",
   "metadata": {},
   "outputs": [
    {
     "data": {
      "image/png": "[encoded data removed]",
      "text/plain": [
       "<Figure size 1440x720 with 1 Axes>"
      ]
     },
     "metadata": {
      "needs_background": "light"
     },
     "output_type": "display_data"
    }
   ],
   "source": [
    "plt.figure(figsize=(20,10))\n",
    "sns.boxplot(data=diamonds[['weight_carat']]);"
   ]
  },
  {
   "cell_type": "markdown",
   "id": "1d1cb2fe",
   "metadata": {},
   "source": [
    "There are not outliers"
   ]
  },
  {
   "cell_type": "markdown",
   "id": "167f3fe0",
   "metadata": {},
   "source": [
    "##### total_depth% column"
   ]
  },
  {
   "cell_type": "code",
   "execution_count": 26,
   "id": "674d4eea",
   "metadata": {},
   "outputs": [
    {
     "data": {
      "image/png": "[encoded data removed]",
      "text/plain": [
       "<Figure size 1440x720 with 1 Axes>"
      ]
     },
     "metadata": {
      "needs_background": "light"
     },
     "output_type": "display_data"
    }
   ],
   "source": [
    "plt.figure(figsize=(20,10))\n",
    "sns.boxplot(data=diamonds[['total_depth%']]);"
   ]
  },
  {
   "cell_type": "markdown",
   "id": "dcebd04c",
   "metadata": {},
   "source": [
    "There are max outliers and min outliers"
   ]
  },
  {
   "cell_type": "markdown",
   "id": "ff334d6b",
   "metadata": {},
   "source": [
    "##### make action delete or replace using a function "
   ]
  },
  {
   "cell_type": "code",
   "execution_count": 29,
   "id": "0ce67144",
   "metadata": {},
   "outputs": [
    {
     "name": "stdout",
     "output_type": "stream",
     "text": [
      "Column is total_depth%\n",
      "Q1 is 61\n",
      "Q3 is 62\n",
      "IQR is 1\n",
      "Max value is 63\n",
      "Percint of outliers is 10.12%\n",
      "Actoin is change outliers values with mean\n",
      " \n",
      "Q1 is 61\n",
      "Q3 is 62\n",
      "IQR is 0\n",
      "Max value is 63\n",
      " \n",
      "Column is total_depth%\n",
      "Q1 is 61\n",
      "Q3 is 62\n",
      "IQR is 0\n",
      "Max value is <built-in function max>\n",
      "Percint of outliers is 13.84%\n",
      "Actoin is change outliers values with mean\n",
      " \n",
      "Q1 is 61\n",
      "Q3 is 62\n",
      "IQR is 0\n",
      "Max value is <built-in function max>\n"
     ]
    }
   ],
   "source": [
    "diamonds = remove_outliers_max(diamonds,'total_depth%')\n",
    "print(' ')\n",
    "diamonds = remove_outliers_min(diamonds,'total_depth%')"
   ]
  },
  {
   "cell_type": "markdown",
   "id": "0bf79fd7",
   "metadata": {},
   "source": [
    "#####  recheck on total_depth% column"
   ]
  },
  {
   "cell_type": "code",
   "execution_count": 30,
   "id": "244b0244",
   "metadata": {},
   "outputs": [
    {
     "data": {
      "image/png": "[encoded data removed]",
      "text/plain": [
       "<Figure size 1440x720 with 1 Axes>"
      ]
     },
     "metadata": {
      "needs_background": "light"
     },
     "output_type": "display_data"
    }
   ],
   "source": [
    "plt.figure(figsize=(20,10))\n",
    "sns.boxplot(data=diamonds[['total_depth%']]);"
   ]
  },
  {
   "cell_type": "markdown",
   "id": "4495e673",
   "metadata": {},
   "source": [
    "There are small max outliers"
   ]
  },
  {
   "cell_type": "markdown",
   "id": "a959c2d3",
   "metadata": {},
   "source": [
    "##### table column"
   ]
  },
  {
   "cell_type": "code",
   "execution_count": 31,
   "id": "ade89997",
   "metadata": {},
   "outputs": [
    {
     "data": {
      "image/png": "[encoded data removed]",
      "text/plain": [
       "<Figure size 1440x720 with 1 Axes>"
      ]
     },
     "metadata": {
      "needs_background": "light"
     },
     "output_type": "display_data"
    }
   ],
   "source": [
    "plt.figure(figsize=(20,10))\n",
    "sns.boxplot(data=diamonds[['table']]);"
   ]
  },
  {
   "cell_type": "markdown",
   "id": "3cc48f9c",
   "metadata": {},
   "source": [
    "There are max outliers and min outliers"
   ]
  },
  {
   "cell_type": "markdown",
   "id": "bfc5ae03",
   "metadata": {},
   "source": [
    "##### make action delete or replace using a function "
   ]
  },
  {
   "cell_type": "code",
   "execution_count": 32,
   "id": "91be7da6",
   "metadata": {},
   "outputs": [
    {
     "name": "stdout",
     "output_type": "stream",
     "text": [
      "Column is table\n",
      "Q1 is 56\n",
      "Q3 is 59\n",
      "IQR is 3\n",
      "Max value is 63\n",
      "Percint of outliers is 1.09%\n",
      "Actoin is delete outliers\n",
      " \n",
      "Q1 is 56\n",
      "Q3 is 59\n",
      "IQR is 3\n",
      "Max value is 63\n",
      " \n",
      "Column is table\n",
      "Q1 is 56\n",
      "Q3 is 59\n",
      "IQR is 3\n",
      "Max value is <built-in function max>\n",
      "Percint of outliers is 1.42%\n",
      "Actoin is delete outliers \n",
      "\n",
      " \n",
      "Q1 is 56\n",
      "Q3 is 59\n",
      "IQR is 3\n",
      "Max value is <built-in function max>\n"
     ]
    }
   ],
   "source": [
    "diamonds = remove_outliers_max(diamonds,'table')\n",
    "print(' ')\n",
    "diamonds = remove_outliers_min(diamonds,'table')"
   ]
  },
  {
   "cell_type": "markdown",
   "id": "8a33a6a3",
   "metadata": {},
   "source": [
    "#####  recheck on table column"
   ]
  },
  {
   "cell_type": "code",
   "execution_count": 33,
   "id": "27415854",
   "metadata": {},
   "outputs": [
    {
     "data": {
      "image/png": "[encoded data removed]",
      "text/plain": [
       "<Figure size 1440x720 with 1 Axes>"
      ]
     },
     "metadata": {
      "needs_background": "light"
     },
     "output_type": "display_data"
    }
   ],
   "source": [
    "plt.figure(figsize=(20,10))\n",
    "sns.boxplot(data=diamonds[['table']]);"
   ]
  },
  {
   "cell_type": "markdown",
   "id": "e557b914",
   "metadata": {},
   "source": [
    "There are not outliers"
   ]
  },
  {
   "cell_type": "markdown",
   "id": "b6f56204",
   "metadata": {},
   "source": [
    "##### length(mm), width(mm) and depth(mm) columns"
   ]
  },
  {
   "cell_type": "code",
   "execution_count": 34,
   "id": "9527adaf",
   "metadata": {},
   "outputs": [
    {
     "data": {
      "image/png": "[encoded data removed]",
      "text/plain": [
       "<Figure size 1440x720 with 1 Axes>"
      ]
     },
     "metadata": {
      "needs_background": "light"
     },
     "output_type": "display_data"
    }
   ],
   "source": [
    "plt.figure(figsize=(20,10))\n",
    "sns.boxplot(data=diamonds[['length(mm)','width(mm)','depth(mm)']]);"
   ]
  },
  {
   "cell_type": "markdown",
   "id": "4bbd8b3b",
   "metadata": {},
   "source": [
    "length(mm): There are max outliers<br>\n",
    "width(mm): There are max outliers<br>\n",
    "depth(mm): There are max outliers and min outliers"
   ]
  },
  {
   "cell_type": "markdown",
   "id": "2d4d39e0",
   "metadata": {},
   "source": [
    "##### make action delete or replace using a function "
   ]
  },
  {
   "cell_type": "code",
   "execution_count": 35,
   "id": "e1d12caf",
   "metadata": {},
   "outputs": [
    {
     "name": "stdout",
     "output_type": "stream",
     "text": [
      "Column is length(mm)\n",
      "Q1 is 4\n",
      "Q3 is 6\n",
      "IQR is 1\n",
      "Max value is 9\n",
      "Percint of outliers is 0.06%\n",
      "Actoin is delete outliers\n",
      " \n",
      "Q1 is 4\n",
      "Q3 is 6\n",
      "IQR is 1\n",
      "Max value is 9\n",
      " \n",
      "Column is width(mm)\n",
      "Q1 is 4\n",
      "Q3 is 6\n",
      "IQR is 1\n",
      "Max value is 9\n",
      "Percint of outliers is 0.0%\n",
      "Actoin is delete outliers\n",
      " \n",
      "Q1 is 4\n",
      "Q3 is 6\n",
      "IQR is 1\n",
      "Max value is 9\n",
      " \n",
      "Column is depth(mm)\n",
      "Q1 is 2\n",
      "Q3 is 3\n",
      "IQR is 1\n",
      "Max value is 5\n",
      "Percint of outliers is 2.37%\n",
      "Actoin is delete outliers\n",
      " \n",
      "Q1 is 2\n",
      "Q3 is 3\n",
      "IQR is 1\n",
      "Max value is 5\n",
      " \n",
      "Column is depth(mm)\n",
      "Q1 is 2\n",
      "Q3 is 3\n",
      "IQR is 1\n",
      "Max value is <built-in function max>\n",
      "Percint of outliers is 0.0%\n",
      "Actoin is delete outliers \n",
      "\n",
      " \n",
      "Q1 is 2\n",
      "Q3 is 3\n",
      "IQR is 1\n",
      "Max value is <built-in function max>\n"
     ]
    }
   ],
   "source": [
    "diamonds = remove_outliers_max(diamonds,'length(mm)')\n",
    "print(' ')\n",
    "diamonds = remove_outliers_max(diamonds,'width(mm)')\n",
    "print(' ')\n",
    "diamonds = remove_outliers_max(diamonds,'depth(mm)')\n",
    "print(' ')\n",
    "diamonds = remove_outliers_min(diamonds,'depth(mm)')"
   ]
  },
  {
   "cell_type": "markdown",
   "id": "0d2a2975",
   "metadata": {},
   "source": [
    "#####  recheck on length(mm), width(mm) and depth(mm) columns"
   ]
  },
  {
   "cell_type": "code",
   "execution_count": 36,
   "id": "4dcf9449",
   "metadata": {},
   "outputs": [
    {
     "data": {
      "image/png": "[encoded data removed]",
      "text/plain": [
       "<Figure size 1440x720 with 1 Axes>"
      ]
     },
     "metadata": {
      "needs_background": "light"
     },
     "output_type": "display_data"
    }
   ],
   "source": [
    "plt.figure(figsize=(20,10))\n",
    "sns.boxplot(data=diamonds[['length(mm)','width(mm)','depth(mm)']]);"
   ]
  },
  {
   "cell_type": "markdown",
   "id": "29d1ae1a",
   "metadata": {},
   "source": [
    "There are not outliers"
   ]
  },
  {
   "cell_type": "markdown",
   "id": "88b00c98",
   "metadata": {},
   "source": [
    "###### check describe of data"
   ]
  },
  {
   "cell_type": "code",
   "execution_count": 37,
   "id": "8b7d6222",
   "metadata": {},
   "outputs": [
    {
     "data": {
      "text/html": [
       "<div>\n",
       "<style scoped>\n",
       "    .dataframe tbody tr th:only-of-type {\n",
       "        vertical-align: middle;\n",
       "    }\n",
       "\n",
       "    .dataframe tbody tr th {\n",
       "        vertical-align: top;\n",
       "    }\n",
       "\n",
       "    .dataframe thead th {\n",
       "        text-align: right;\n",
       "    }\n",
       "</style>\n",
       "<table border=\"1\" class=\"dataframe\">\n",
       "  <thead>\n",
       "    <tr style=\"text-align: right;\">\n",
       "      <th></th>\n",
       "      <th>weight_carat</th>\n",
       "      <th>total_depth%</th>\n",
       "      <th>table</th>\n",
       "      <th>price$</th>\n",
       "      <th>length(mm)</th>\n",
       "      <th>width(mm)</th>\n",
       "      <th>depth(mm)</th>\n",
       "    </tr>\n",
       "  </thead>\n",
       "  <tbody>\n",
       "    <tr>\n",
       "      <th>count</th>\n",
       "      <td>46340.000000</td>\n",
       "      <td>46340.000000</td>\n",
       "      <td>46340.000000</td>\n",
       "      <td>46340.000000</td>\n",
       "      <td>46340.000000</td>\n",
       "      <td>46340.000000</td>\n",
       "      <td>46340.000000</td>\n",
       "    </tr>\n",
       "    <tr>\n",
       "      <th>mean</th>\n",
       "      <td>0.583306</td>\n",
       "      <td>61.888000</td>\n",
       "      <td>57.397965</td>\n",
       "      <td>2624.177600</td>\n",
       "      <td>5.548037</td>\n",
       "      <td>5.552610</td>\n",
       "      <td>3.419759</td>\n",
       "    </tr>\n",
       "    <tr>\n",
       "      <th>std</th>\n",
       "      <td>0.210013</td>\n",
       "      <td>0.457166</td>\n",
       "      <td>2.023436</td>\n",
       "      <td>2059.089002</td>\n",
       "      <td>1.006072</td>\n",
       "      <td>0.999889</td>\n",
       "      <td>0.615408</td>\n",
       "    </tr>\n",
       "    <tr>\n",
       "      <th>min</th>\n",
       "      <td>0.200000</td>\n",
       "      <td>61.000000</td>\n",
       "      <td>54.000000</td>\n",
       "      <td>326.000000</td>\n",
       "      <td>3.730000</td>\n",
       "      <td>3.680000</td>\n",
       "      <td>2.060000</td>\n",
       "    </tr>\n",
       "    <tr>\n",
       "      <th>25%</th>\n",
       "      <td>0.370000</td>\n",
       "      <td>61.626534</td>\n",
       "      <td>56.000000</td>\n",
       "      <td>884.000000</td>\n",
       "      <td>4.630000</td>\n",
       "      <td>4.640000</td>\n",
       "      <td>2.850000</td>\n",
       "    </tr>\n",
       "    <tr>\n",
       "      <th>50%</th>\n",
       "      <td>0.590000</td>\n",
       "      <td>61.800000</td>\n",
       "      <td>57.000000</td>\n",
       "      <td>2005.000000</td>\n",
       "      <td>5.400000</td>\n",
       "      <td>5.410000</td>\n",
       "      <td>3.320000</td>\n",
       "    </tr>\n",
       "    <tr>\n",
       "      <th>75%</th>\n",
       "      <td>0.754175</td>\n",
       "      <td>62.200000</td>\n",
       "      <td>59.000000</td>\n",
       "      <td>4004.000000</td>\n",
       "      <td>6.400000</td>\n",
       "      <td>6.400000</td>\n",
       "      <td>3.950000</td>\n",
       "    </tr>\n",
       "    <tr>\n",
       "      <th>max</th>\n",
       "      <td>1.000000</td>\n",
       "      <td>63.000000</td>\n",
       "      <td>63.000000</td>\n",
       "      <td>8505.000000</td>\n",
       "      <td>8.800000</td>\n",
       "      <td>8.690000</td>\n",
       "      <td>5.000000</td>\n",
       "    </tr>\n",
       "  </tbody>\n",
       "</table>\n",
       "</div>"
      ],
      "text/plain": [
       "       weight_carat  total_depth%         table        price$    length(mm)  \\\n",
       "count  46340.000000  46340.000000  46340.000000  46340.000000  46340.000000   \n",
       "mean       0.583306     61.888000     57.397965   2624.177600      5.548037   \n",
       "std        0.210013      0.457166      2.023436   2059.089002      1.006072   \n",
       "min        0.200000     61.000000     54.000000    326.000000      3.730000   \n",
       "25%        0.370000     61.626534     56.000000    884.000000      4.630000   \n",
       "50%        0.590000     61.800000     57.000000   2005.000000      5.400000   \n",
       "75%        0.754175     62.200000     59.000000   4004.000000      6.400000   \n",
       "max        1.000000     63.000000     63.000000   8505.000000      8.800000   \n",
       "\n",
       "          width(mm)     depth(mm)  \n",
       "count  46340.000000  46340.000000  \n",
       "mean       5.552610      3.419759  \n",
       "std        0.999889      0.615408  \n",
       "min        3.680000      2.060000  \n",
       "25%        4.640000      2.850000  \n",
       "50%        5.410000      3.320000  \n",
       "75%        6.400000      3.950000  \n",
       "max        8.690000      5.000000  "
      ]
     },
     "execution_count": 37,
     "metadata": {},
     "output_type": "execute_result"
    }
   ],
   "source": [
    "diamonds.describe()"
   ]
  },
  {
   "cell_type": "markdown",
   "id": "a653a36a",
   "metadata": {},
   "source": [
    "Now logical differents between 75% and max"
   ]
  },
  {
   "cell_type": "markdown",
   "id": "d5eb2013",
   "metadata": {},
   "source": [
    "##### check correlation"
   ]
  },
  {
   "cell_type": "code",
   "execution_count": 38,
   "id": "bb5ac577",
   "metadata": {},
   "outputs": [
    {
     "data": {
      "text/plain": [
       "<AxesSubplot:>"
      ]
     },
     "execution_count": 38,
     "metadata": {},
     "output_type": "execute_result"
    },
    {
     "data": {
      "image/png": "[encoded data removed]",
      "text/plain": [
       "<Figure size 1080x504 with 2 Axes>"
      ]
     },
     "metadata": {
      "needs_background": "light"
     },
     "output_type": "display_data"
    }
   ],
   "source": [
    "plt.figure(figsize=(15,7))\n",
    "sns.heatmap(diamonds.corr(), annot=True)"
   ]
  },
  {
   "cell_type": "markdown",
   "id": "11186c3f",
   "metadata": {},
   "source": [
    "There is Strong Positive Correlation between weight_carat, price$, length(mm), width(mm), total_depth% and depth(mm) with each other"
   ]
  },
  {
   "cell_type": "markdown",
   "id": "0f2745e5",
   "metadata": {},
   "source": [
    "## perpare data for modeling"
   ]
  },
  {
   "cell_type": "markdown",
   "id": "611edf02",
   "metadata": {},
   "source": [
    "##### encode string columns"
   ]
  },
  {
   "cell_type": "code",
   "execution_count": 39,
   "id": "4a1961cf",
   "metadata": {},
   "outputs": [
    {
     "name": "stdout",
     "output_type": "stream",
     "text": [
      "<class 'pandas.core.frame.DataFrame'>\n",
      "Int64Index: 46340 entries, 1 to 53940\n",
      "Data columns (total 11 columns):\n",
      " #   Column        Non-Null Count  Dtype  \n",
      "---  ------        --------------  -----  \n",
      " 0   weight_carat  46340 non-null  float64\n",
      " 1   quality       46340 non-null  object \n",
      " 2   color         46340 non-null  object \n",
      " 3   clarity       46340 non-null  object \n",
      " 4   total_depth%  46340 non-null  float64\n",
      " 5   table         46340 non-null  float64\n",
      " 6   price$        46340 non-null  int64  \n",
      " 7   length(mm)    46340 non-null  float64\n",
      " 8   width(mm)     46340 non-null  float64\n",
      " 9   depth(mm)     46340 non-null  float64\n",
      " 10  color_type    46340 non-null  object \n",
      "dtypes: float64(6), int64(1), object(4)\n",
      "memory usage: 4.2+ MB\n"
     ]
    }
   ],
   "source": [
    "diamonds.info()"
   ]
  },
  {
   "cell_type": "markdown",
   "id": "53d6738d",
   "metadata": {},
   "source": [
    "we have 3 column to be encoded"
   ]
  },
  {
   "cell_type": "markdown",
   "id": "530444f2",
   "metadata": {},
   "source": [
    "##### encoding columns"
   ]
  },
  {
   "cell_type": "code",
   "execution_count": 40,
   "id": "b591dd7c",
   "metadata": {},
   "outputs": [
    {
     "data": {
      "text/html": [
       "<div>\n",
       "<style scoped>\n",
       "    .dataframe tbody tr th:only-of-type {\n",
       "        vertical-align: middle;\n",
       "    }\n",
       "\n",
       "    .dataframe tbody tr th {\n",
       "        vertical-align: top;\n",
       "    }\n",
       "\n",
       "    .dataframe thead th {\n",
       "        text-align: right;\n",
       "    }\n",
       "</style>\n",
       "<table border=\"1\" class=\"dataframe\">\n",
       "  <thead>\n",
       "    <tr style=\"text-align: right;\">\n",
       "      <th></th>\n",
       "      <th>weight_carat</th>\n",
       "      <th>total_depth%</th>\n",
       "      <th>table</th>\n",
       "      <th>price$</th>\n",
       "      <th>length(mm)</th>\n",
       "      <th>width(mm)</th>\n",
       "      <th>depth(mm)</th>\n",
       "      <th>quality_Fair</th>\n",
       "      <th>quality_Good</th>\n",
       "      <th>quality_Ideal</th>\n",
       "      <th>...</th>\n",
       "      <th>clarity_I1</th>\n",
       "      <th>clarity_IF</th>\n",
       "      <th>clarity_SI1</th>\n",
       "      <th>clarity_SI2</th>\n",
       "      <th>clarity_VS1</th>\n",
       "      <th>clarity_VS2</th>\n",
       "      <th>clarity_VVS1</th>\n",
       "      <th>clarity_VVS2</th>\n",
       "      <th>color_type_Colorless</th>\n",
       "      <th>color_type_Near colorless</th>\n",
       "    </tr>\n",
       "  </thead>\n",
       "  <tbody>\n",
       "    <tr>\n",
       "      <th>1</th>\n",
       "      <td>0.23</td>\n",
       "      <td>61.500000</td>\n",
       "      <td>55.0</td>\n",
       "      <td>326</td>\n",
       "      <td>3.95</td>\n",
       "      <td>3.98</td>\n",
       "      <td>2.43</td>\n",
       "      <td>0</td>\n",
       "      <td>0</td>\n",
       "      <td>1</td>\n",
       "      <td>...</td>\n",
       "      <td>0</td>\n",
       "      <td>0</td>\n",
       "      <td>0</td>\n",
       "      <td>1</td>\n",
       "      <td>0</td>\n",
       "      <td>0</td>\n",
       "      <td>0</td>\n",
       "      <td>0</td>\n",
       "      <td>1</td>\n",
       "      <td>0</td>\n",
       "    </tr>\n",
       "    <tr>\n",
       "      <th>2</th>\n",
       "      <td>0.21</td>\n",
       "      <td>61.626534</td>\n",
       "      <td>61.0</td>\n",
       "      <td>326</td>\n",
       "      <td>3.89</td>\n",
       "      <td>3.84</td>\n",
       "      <td>2.31</td>\n",
       "      <td>0</td>\n",
       "      <td>0</td>\n",
       "      <td>0</td>\n",
       "      <td>...</td>\n",
       "      <td>0</td>\n",
       "      <td>0</td>\n",
       "      <td>1</td>\n",
       "      <td>0</td>\n",
       "      <td>0</td>\n",
       "      <td>0</td>\n",
       "      <td>0</td>\n",
       "      <td>0</td>\n",
       "      <td>1</td>\n",
       "      <td>0</td>\n",
       "    </tr>\n",
       "    <tr>\n",
       "      <th>4</th>\n",
       "      <td>0.29</td>\n",
       "      <td>62.400000</td>\n",
       "      <td>58.0</td>\n",
       "      <td>334</td>\n",
       "      <td>4.20</td>\n",
       "      <td>4.23</td>\n",
       "      <td>2.63</td>\n",
       "      <td>0</td>\n",
       "      <td>0</td>\n",
       "      <td>0</td>\n",
       "      <td>...</td>\n",
       "      <td>0</td>\n",
       "      <td>0</td>\n",
       "      <td>0</td>\n",
       "      <td>0</td>\n",
       "      <td>0</td>\n",
       "      <td>1</td>\n",
       "      <td>0</td>\n",
       "      <td>0</td>\n",
       "      <td>0</td>\n",
       "      <td>1</td>\n",
       "    </tr>\n",
       "    <tr>\n",
       "      <th>5</th>\n",
       "      <td>0.31</td>\n",
       "      <td>61.884678</td>\n",
       "      <td>58.0</td>\n",
       "      <td>335</td>\n",
       "      <td>4.34</td>\n",
       "      <td>4.35</td>\n",
       "      <td>2.75</td>\n",
       "      <td>0</td>\n",
       "      <td>1</td>\n",
       "      <td>0</td>\n",
       "      <td>...</td>\n",
       "      <td>0</td>\n",
       "      <td>0</td>\n",
       "      <td>0</td>\n",
       "      <td>1</td>\n",
       "      <td>0</td>\n",
       "      <td>0</td>\n",
       "      <td>0</td>\n",
       "      <td>0</td>\n",
       "      <td>0</td>\n",
       "      <td>1</td>\n",
       "    </tr>\n",
       "    <tr>\n",
       "      <th>6</th>\n",
       "      <td>0.24</td>\n",
       "      <td>62.800000</td>\n",
       "      <td>57.0</td>\n",
       "      <td>336</td>\n",
       "      <td>3.94</td>\n",
       "      <td>3.96</td>\n",
       "      <td>2.48</td>\n",
       "      <td>0</td>\n",
       "      <td>0</td>\n",
       "      <td>0</td>\n",
       "      <td>...</td>\n",
       "      <td>0</td>\n",
       "      <td>0</td>\n",
       "      <td>0</td>\n",
       "      <td>0</td>\n",
       "      <td>0</td>\n",
       "      <td>0</td>\n",
       "      <td>0</td>\n",
       "      <td>1</td>\n",
       "      <td>0</td>\n",
       "      <td>1</td>\n",
       "    </tr>\n",
       "  </tbody>\n",
       "</table>\n",
       "<p>5 rows × 29 columns</p>\n",
       "</div>"
      ],
      "text/plain": [
       "   weight_carat  total_depth%  table  price$  length(mm)  width(mm)  \\\n",
       "1          0.23     61.500000   55.0     326        3.95       3.98   \n",
       "2          0.21     61.626534   61.0     326        3.89       3.84   \n",
       "4          0.29     62.400000   58.0     334        4.20       4.23   \n",
       "5          0.31     61.884678   58.0     335        4.34       4.35   \n",
       "6          0.24     62.800000   57.0     336        3.94       3.96   \n",
       "\n",
       "   depth(mm)  quality_Fair  quality_Good  quality_Ideal  ...  clarity_I1  \\\n",
       "1       2.43             0             0              1  ...           0   \n",
       "2       2.31             0             0              0  ...           0   \n",
       "4       2.63             0             0              0  ...           0   \n",
       "5       2.75             0             1              0  ...           0   \n",
       "6       2.48             0             0              0  ...           0   \n",
       "\n",
       "   clarity_IF  clarity_SI1  clarity_SI2  clarity_VS1  clarity_VS2  \\\n",
       "1           0            0            1            0            0   \n",
       "2           0            1            0            0            0   \n",
       "4           0            0            0            0            1   \n",
       "5           0            0            1            0            0   \n",
       "6           0            0            0            0            0   \n",
       "\n",
       "   clarity_VVS1  clarity_VVS2  color_type_Colorless  color_type_Near colorless  \n",
       "1             0             0                     1                          0  \n",
       "2             0             0                     1                          0  \n",
       "4             0             0                     0                          1  \n",
       "5             0             0                     0                          1  \n",
       "6             0             1                     0                          1  \n",
       "\n",
       "[5 rows x 29 columns]"
      ]
     },
     "execution_count": 40,
     "metadata": {},
     "output_type": "execute_result"
    }
   ],
   "source": [
    "diamonds = pd.get_dummies(diamonds)\n",
    "diamonds.head()"
   ]
  },
  {
   "cell_type": "markdown",
   "id": "800326fa",
   "metadata": {},
   "source": [
    "##### check correlation for encoded columns"
   ]
  },
  {
   "cell_type": "code",
   "execution_count": 150,
   "id": "5d7fe766",
   "metadata": {},
   "outputs": [
    {
     "data": {
      "text/plain": [
       "<AxesSubplot:>"
      ]
     },
     "execution_count": 150,
     "metadata": {},
     "output_type": "execute_result"
    },
    {
     "data": {
      "image/png": "[encoded data removed]",
      "text/plain": [
       "<Figure size 1440x504 with 2 Axes>"
      ]
     },
     "metadata": {
      "needs_background": "light"
     },
     "output_type": "display_data"
    }
   ],
   "source": [
    "plt.figure(figsize=(20,7))\n",
    "sns.heatmap(\n",
    "    diamonds.drop([\n",
    "        'weight_carat',\n",
    "        'length(mm)',\n",
    "        'width(mm)',\n",
    "        'depth(mm)',\n",
    "        'table'\n",
    "    ],axis=1).corr(),\n",
    "    annot=True\n",
    ")"
   ]
  },
  {
   "cell_type": "markdown",
   "id": "39df160c",
   "metadata": {},
   "source": [
    "we can see there is no correlation with encoded columns and price column"
   ]
  },
  {
   "cell_type": "markdown",
   "id": "3775e0e9",
   "metadata": {},
   "source": [
    "## split data into train and test"
   ]
  },
  {
   "cell_type": "markdown",
   "id": "bfe5604c",
   "metadata": {},
   "source": [
    "##### split data into x (input) and y (output)"
   ]
  },
  {
   "cell_type": "code",
   "execution_count": 129,
   "id": "32ad0da7",
   "metadata": {},
   "outputs": [],
   "source": [
    "x = diamonds[['weight_carat','length(mm)','width(mm)','depth(mm)','total_depth%']]\n",
    "y = diamonds['price$']"
   ]
  },
  {
   "cell_type": "code",
   "execution_count": 130,
   "id": "a9e7a528",
   "metadata": {},
   "outputs": [
    {
     "data": {
      "text/html": [
       "<div>\n",
       "<style scoped>\n",
       "    .dataframe tbody tr th:only-of-type {\n",
       "        vertical-align: middle;\n",
       "    }\n",
       "\n",
       "    .dataframe tbody tr th {\n",
       "        vertical-align: top;\n",
       "    }\n",
       "\n",
       "    .dataframe thead th {\n",
       "        text-align: right;\n",
       "    }\n",
       "</style>\n",
       "<table border=\"1\" class=\"dataframe\">\n",
       "  <thead>\n",
       "    <tr style=\"text-align: right;\">\n",
       "      <th></th>\n",
       "      <th>weight_carat</th>\n",
       "      <th>length(mm)</th>\n",
       "      <th>width(mm)</th>\n",
       "      <th>depth(mm)</th>\n",
       "      <th>total_depth%</th>\n",
       "    </tr>\n",
       "  </thead>\n",
       "  <tbody>\n",
       "    <tr>\n",
       "      <th>1</th>\n",
       "      <td>0.23</td>\n",
       "      <td>3.95</td>\n",
       "      <td>3.98</td>\n",
       "      <td>2.43</td>\n",
       "      <td>61.500000</td>\n",
       "    </tr>\n",
       "    <tr>\n",
       "      <th>2</th>\n",
       "      <td>0.21</td>\n",
       "      <td>3.89</td>\n",
       "      <td>3.84</td>\n",
       "      <td>2.31</td>\n",
       "      <td>61.626534</td>\n",
       "    </tr>\n",
       "    <tr>\n",
       "      <th>4</th>\n",
       "      <td>0.29</td>\n",
       "      <td>4.20</td>\n",
       "      <td>4.23</td>\n",
       "      <td>2.63</td>\n",
       "      <td>62.400000</td>\n",
       "    </tr>\n",
       "    <tr>\n",
       "      <th>5</th>\n",
       "      <td>0.31</td>\n",
       "      <td>4.34</td>\n",
       "      <td>4.35</td>\n",
       "      <td>2.75</td>\n",
       "      <td>61.884678</td>\n",
       "    </tr>\n",
       "    <tr>\n",
       "      <th>6</th>\n",
       "      <td>0.24</td>\n",
       "      <td>3.94</td>\n",
       "      <td>3.96</td>\n",
       "      <td>2.48</td>\n",
       "      <td>62.800000</td>\n",
       "    </tr>\n",
       "  </tbody>\n",
       "</table>\n",
       "</div>"
      ],
      "text/plain": [
       "   weight_carat  length(mm)  width(mm)  depth(mm)  total_depth%\n",
       "1          0.23        3.95       3.98       2.43     61.500000\n",
       "2          0.21        3.89       3.84       2.31     61.626534\n",
       "4          0.29        4.20       4.23       2.63     62.400000\n",
       "5          0.31        4.34       4.35       2.75     61.884678\n",
       "6          0.24        3.94       3.96       2.48     62.800000"
      ]
     },
     "execution_count": 130,
     "metadata": {},
     "output_type": "execute_result"
    }
   ],
   "source": [
    "x.head()"
   ]
  },
  {
   "cell_type": "markdown",
   "id": "ba91f286",
   "metadata": {},
   "source": [
    "##### set data into train and test"
   ]
  },
  {
   "cell_type": "code",
   "execution_count": 131,
   "id": "5bd45784",
   "metadata": {},
   "outputs": [],
   "source": [
    "x_train,x_test,y_train,y_test = train_test_split(x,y,test_size=0.33)"
   ]
  },
  {
   "cell_type": "markdown",
   "id": "afc592a8",
   "metadata": {},
   "source": [
    "## Modeling"
   ]
  },
  {
   "cell_type": "markdown",
   "id": "b560aed7",
   "metadata": {},
   "source": [
    "##### Linear regression object"
   ]
  },
  {
   "cell_type": "code",
   "execution_count": 132,
   "id": "71b62896",
   "metadata": {},
   "outputs": [],
   "source": [
    "lr = LinearRegression()"
   ]
  },
  {
   "cell_type": "markdown",
   "id": "ba749f9c",
   "metadata": {},
   "source": [
    "##### train data"
   ]
  },
  {
   "cell_type": "code",
   "execution_count": 133,
   "id": "74fc8d99",
   "metadata": {},
   "outputs": [
    {
     "data": {
      "text/plain": [
       "LinearRegression()"
      ]
     },
     "execution_count": 133,
     "metadata": {},
     "output_type": "execute_result"
    }
   ],
   "source": [
    "lr.fit(x_train,y_train)"
   ]
  },
  {
   "cell_type": "markdown",
   "id": "a6a45790",
   "metadata": {},
   "source": [
    "##### intercept"
   ]
  },
  {
   "cell_type": "code",
   "execution_count": 134,
   "id": "322b68a3",
   "metadata": {},
   "outputs": [
    {
     "data": {
      "text/plain": [
       "-3306.9304736367294"
      ]
     },
     "execution_count": 134,
     "metadata": {},
     "output_type": "execute_result"
    }
   ],
   "source": [
    "lr.intercept_"
   ]
  },
  {
   "cell_type": "markdown",
   "id": "6d92bbfb",
   "metadata": {},
   "source": [
    "##### coefficients of the model"
   ]
  },
  {
   "cell_type": "code",
   "execution_count": 135,
   "id": "c5a23584",
   "metadata": {},
   "outputs": [
    {
     "data": {
      "text/plain": [
       "array([3259.51374708,   34.2176631 ,  -74.71315001, 1778.45818489,\n",
       "        -29.54831753])"
      ]
     },
     "execution_count": 135,
     "metadata": {},
     "output_type": "execute_result"
    }
   ],
   "source": [
    "coef = lr.coef_\n",
    "coef"
   ]
  },
  {
   "cell_type": "code",
   "execution_count": 136,
   "id": "0ec84248",
   "metadata": {},
   "outputs": [
    {
     "name": "stdout",
     "output_type": "stream",
     "text": [
      "For each weight_carat will affect on price by 3259.51\n",
      "For each length(mm) will affect on price by 34.22\n",
      "For each width(mm) will affect on price by -74.71\n",
      "For each depth(mm) will affect on price by 1778.46\n",
      "For each total_depth% will affect on price by -29.55\n"
     ]
    }
   ],
   "source": [
    "for c in list(coef):\n",
    "    print(f'For each {list(x.columns)[list(coef).index(c)]} will affect on price by {round(c,2)}')"
   ]
  },
  {
   "cell_type": "markdown",
   "id": "882a017f",
   "metadata": {},
   "source": [
    "##### Prediction plot "
   ]
  },
  {
   "cell_type": "code",
   "execution_count": 151,
   "id": "d05e444a",
   "metadata": {},
   "outputs": [],
   "source": [
    "predict = lr.predict(x_test)"
   ]
  },
  {
   "cell_type": "code",
   "execution_count": 156,
   "id": "16030128-8d24-4cc3-ac11-ce90925f927d",
   "metadata": {},
   "outputs": [
    {
     "data": {
      "text/plain": [
       "array([ 644.97148168, 2109.09034914,  476.15693603, ..., 2054.01583092,\n",
       "       3636.00417069, 3881.44987076])"
      ]
     },
     "execution_count": 156,
     "metadata": {},
     "output_type": "execute_result"
    }
   ],
   "source": [
    "predict"
   ]
  },
  {
   "cell_type": "code",
   "execution_count": 138,
   "id": "19e26dbc",
   "metadata": {},
   "outputs": [
    {
     "data": {
      "text/plain": [
       "<matplotlib.collections.PathCollection at 0x1ed7e519820>"
      ]
     },
     "execution_count": 138,
     "metadata": {},
     "output_type": "execute_result"
    },
    {
     "data": {
      "image/png": "[encoded data removed]",
      "text/plain": [
       "<Figure size 1080x720 with 1 Axes>"
      ]
     },
     "metadata": {
      "needs_background": "light"
     },
     "output_type": "display_data"
    }
   ],
   "source": [
    "plt.figure(figsize=(15,10))\n",
    "plt.scatter(y_test,predict)"
   ]
  },
  {
   "cell_type": "markdown",
   "id": "ff47e24e",
   "metadata": {},
   "source": [
    "there is strong positive correlation between y_test and predict"
   ]
  },
  {
   "cell_type": "markdown",
   "id": "86cde6bf",
   "metadata": {},
   "source": [
    "## Model evalution"
   ]
  },
  {
   "cell_type": "markdown",
   "id": "78bfbdba",
   "metadata": {},
   "source": [
    "##### Calculate the Mean Squared Error, and the Root Mean Squared Error."
   ]
  },
  {
   "cell_type": "code",
   "execution_count": 154,
   "id": "0c420721",
   "metadata": {},
   "outputs": [
    {
     "name": "stdout",
     "output_type": "stream",
     "text": [
      "MSE: 1425470.0288550411\n",
      "RMSE: 1193.9304958225337\n"
     ]
    }
   ],
   "source": [
    "print(f'MSE: {mse(y_test,predict)}')\n",
    "print(f'RMSE: {mse(y_test,predict, squared=False)}')"
   ]
  },
  {
   "cell_type": "markdown",
   "id": "c7d6023f",
   "metadata": {},
   "source": [
    "##### score of training data"
   ]
  },
  {
   "cell_type": "code",
   "execution_count": 141,
   "id": "97f11322",
   "metadata": {},
   "outputs": [
    {
     "data": {
      "text/plain": [
       "0.6765780557276393"
      ]
     },
     "execution_count": 141,
     "metadata": {},
     "output_type": "execute_result"
    }
   ],
   "source": [
    "lr.score(x_train,y_train)"
   ]
  },
  {
   "cell_type": "markdown",
   "id": "d279c27e",
   "metadata": {},
   "source": [
    "##### score of testing data"
   ]
  },
  {
   "cell_type": "code",
   "execution_count": 152,
   "id": "91d928df",
   "metadata": {},
   "outputs": [
    {
     "data": {
      "text/plain": [
       "0.6681474452752911"
      ]
     },
     "execution_count": 152,
     "metadata": {},
     "output_type": "execute_result"
    }
   ],
   "source": [
    "lr.score(x_test,y_test)"
   ]
  },
  {
   "cell_type": "markdown",
   "id": "591583fe-baa6-4251-a03f-05a994618871",
   "metadata": {},
   "source": [
    "We see that the training data and the test data have a close score but 66% is too low "
   ]
  },
  {
   "cell_type": "markdown",
   "id": "e481c391-c312-4d3f-9d88-7d58e8f8c6ef",
   "metadata": {},
   "source": [
    "## Testing a new model for better accuracy"
   ]
  },
  {
   "cell_type": "markdown",
   "id": "e5f294f0",
   "metadata": {},
   "source": [
    "##### Random Forest Regressor object"
   ]
  },
  {
   "cell_type": "code",
   "execution_count": 143,
   "id": "b557f83d",
   "metadata": {},
   "outputs": [],
   "source": [
    "rf= RandomForestRegressor(n_estimators=100,min_samples_leaf=15)"
   ]
  },
  {
   "cell_type": "markdown",
   "id": "b1eae1d6",
   "metadata": {},
   "source": [
    "##### train data"
   ]
  },
  {
   "cell_type": "code",
   "execution_count": 144,
   "id": "482cb7e9",
   "metadata": {},
   "outputs": [
    {
     "data": {
      "text/plain": [
       "RandomForestRegressor(min_samples_leaf=15)"
      ]
     },
     "execution_count": 144,
     "metadata": {},
     "output_type": "execute_result"
    }
   ],
   "source": [
    "rf.fit(x_train,y_train)"
   ]
  },
  {
   "cell_type": "markdown",
   "id": "2ef57604",
   "metadata": {},
   "source": [
    "##### coefficients of the model"
   ]
  },
  {
   "cell_type": "code",
   "execution_count": 157,
   "id": "26f2c91f",
   "metadata": {},
   "outputs": [
    {
     "data": {
      "text/plain": [
       "array([0.03391469, 0.08562838, 0.67494184, 0.19857739, 0.00693769])"
      ]
     },
     "execution_count": 157,
     "metadata": {},
     "output_type": "execute_result"
    }
   ],
   "source": [
    "fi = rf.feature_importances_\n",
    "fi"
   ]
  },
  {
   "cell_type": "code",
   "execution_count": 159,
   "id": "550a6a15",
   "metadata": {},
   "outputs": [
    {
     "name": "stdout",
     "output_type": "stream",
     "text": [
      "For each weight_carat will affect on price by 0.03\n",
      "For each length(mm) will affect on price by 0.09\n",
      "For each width(mm) will affect on price by 0.67\n",
      "For each depth(mm) will affect on price by 0.2\n",
      "For each total_depth% will affect on price by 0.01\n"
     ]
    }
   ],
   "source": [
    "for c in list(fi):\n",
    "    print(f'For each {list(x.columns)[list(fi).index(c)]} will affect on price by {round(c,2)}')"
   ]
  },
  {
   "cell_type": "markdown",
   "id": "2722b0f9-1851-48d9-9f1d-2f3bb4227e4f",
   "metadata": {},
   "source": [
    "##### Prediction plot "
   ]
  },
  {
   "cell_type": "code",
   "execution_count": 146,
   "id": "46547009-056b-42a3-8836-3c0b501401c0",
   "metadata": {},
   "outputs": [
    {
     "data": {
      "text/plain": [
       "array([ 678.68243565, 1878.44950848,  846.08994953, ..., 1762.04802121,\n",
       "       2924.01668093, 3035.45074865])"
      ]
     },
     "execution_count": 146,
     "metadata": {},
     "output_type": "execute_result"
    }
   ],
   "source": [
    "rfc_predict=rf.predict(x_test)\n",
    "rfc_predict"
   ]
  },
  {
   "cell_type": "code",
   "execution_count": 147,
   "id": "6a6d4518-7c92-41e1-9459-b909e185f9e1",
   "metadata": {},
   "outputs": [
    {
     "data": {
      "text/plain": [
       "<matplotlib.collections.PathCollection at 0x1ed8e2ad970>"
      ]
     },
     "execution_count": 147,
     "metadata": {},
     "output_type": "execute_result"
    },
    {
     "data": {
      "image/png": "[encoded data removed]",
      "text/plain": [
       "<Figure size 1080x720 with 1 Axes>"
      ]
     },
     "metadata": {
      "needs_background": "light"
     },
     "output_type": "display_data"
    }
   ],
   "source": [
    "plt.figure(figsize=(15,10))\n",
    "plt.scatter(y_test,rfc_predict)"
   ]
  },
  {
   "cell_type": "markdown",
   "id": "1b5fe643-8aee-4469-b55e-0631e9207d9c",
   "metadata": {},
   "source": [
    "there is strong positive correlation between y_test and predict"
   ]
  },
  {
   "cell_type": "markdown",
   "id": "99f1df04-02c1-49dd-b3f7-52a828eae315",
   "metadata": {},
   "source": [
    "##### Calculate the Mean Squared Error, and the Root Mean Squared Error.## Model evalution"
   ]
  },
  {
   "cell_type": "markdown",
   "id": "83fcddbf-e3fc-4f20-b394-f69542c54632",
   "metadata": {},
   "source": [
    "##### Calculate the Mean Squared Error, and the Root Mean Squared Error."
   ]
  },
  {
   "cell_type": "code",
   "execution_count": 155,
   "id": "cba70a49-54cb-4223-80da-038517ff47e9",
   "metadata": {},
   "outputs": [
    {
     "name": "stdout",
     "output_type": "stream",
     "text": [
      "MSE: 777077.6308270846\n",
      "RMSE: 881.5200683064933\n"
     ]
    }
   ],
   "source": [
    "print(f'MSE: {mse(y_test,rfc_predict)}')\n",
    "print(f'RMSE: {mse(y_test,rfc_predict, squared=False)}')"
   ]
  },
  {
   "cell_type": "markdown",
   "id": "31cf4be3",
   "metadata": {},
   "source": [
    "##### score of training data"
   ]
  },
  {
   "cell_type": "code",
   "execution_count": 148,
   "id": "9487b600",
   "metadata": {},
   "outputs": [
    {
     "data": {
      "text/plain": [
       "0.8498582252308939"
      ]
     },
     "execution_count": 148,
     "metadata": {},
     "output_type": "execute_result"
    }
   ],
   "source": [
    "rf.score(x_train,y_train)"
   ]
  },
  {
   "cell_type": "markdown",
   "id": "a458f4eb",
   "metadata": {},
   "source": [
    "##### score of testing data"
   ]
  },
  {
   "cell_type": "code",
   "execution_count": 149,
   "id": "db6283ad",
   "metadata": {},
   "outputs": [
    {
     "data": {
      "text/plain": [
       "0.8190946201678323"
      ]
     },
     "execution_count": 149,
     "metadata": {},
     "output_type": "execute_result"
    }
   ],
   "source": [
    "rf.score(x_test,y_test)"
   ]
  },
  {
   "cell_type": "markdown",
   "id": "8362fb39",
   "metadata": {},
   "source": [
    "##### wich model is better ?"
   ]
  },
  {
   "cell_type": "code",
   "execution_count": 160,
   "id": "572bd9bc",
   "metadata": {},
   "outputs": [
    {
     "name": "stdout",
     "output_type": "stream",
     "text": [
      "we can say Random Forest Regressor is better model than Linear Regression model, that when Random Forest Regressor model have score on training is 84.99% and on testing is 81.91%, and Linear Regression model have score on \n",
      "training is 67.66% and on testing is 66.81%\n"
     ]
    }
   ],
   "source": [
    "print(f'we can say Random Forest Regressor is better model than Linear Regression model, that when Random Forest Regressor model have score on training is {round(rf.score(x_train,y_train)*100,2)}% and on testing is {round(rf.score(x_test,y_test)*100,2)}%, and Linear Regression model have score on \\ntraining is {round(lr.score(x_train,y_train)*100,2)}% and on testing is {round(lr.score(x_test,y_test)*100,2)}%')"
   ]
  },
  {
   "cell_type": "markdown",
   "id": "18eab8ec",
   "metadata": {},
   "source": [
    "# The End \n",
    "## Thank you"
   ]
  }
 ],
 "metadata": {
  "kernelspec": {
   "display_name": "Python 3 (ipykernel)",
   "language": "python",
   "name": "python3"
  },
  "language_info": {
   "codemirror_mode": {
    "name": "ipython",
    "version": 3
   },
   "file_extension": ".py",
   "mimetype": "text/x-python",
   "name": "python",
   "nbconvert_exporter": "python",
   "pygments_lexer": "ipython3",
   "version": "3.9.7"
  }
 },
 "nbformat": 4,
 "nbformat_minor": 5
}
